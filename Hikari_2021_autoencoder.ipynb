{
 "cells": [
  {
   "cell_type": "code",
   "execution_count": 1,
   "id": "f4f7e9de",
   "metadata": {},
   "outputs": [],
   "source": [
    "import numpy as np\n",
    "import pandas as pd\n",
    "import matplotlib.pyplot as plt\n",
    "from collections import Counter\n",
    "import seaborn as sns"
   ]
  },
  {
   "cell_type": "code",
   "execution_count": 2,
   "id": "a57c4afe",
   "metadata": {},
   "outputs": [],
   "source": [
    "data = pd.read_csv(\"ALLFLOWMETER_HIKARI2021.csv\")\n",
    "\n",
    "\n",
    "y = data['Label']\n",
    "\n",
    "x_data = data.drop(['Label', 'Unnamed: 0.1', 'Unnamed: 0', 'uid', 'originh', 'responh', 'traffic_category'], axis=1)\n"
   ]
  },
  {
   "cell_type": "code",
   "execution_count": 3,
   "id": "e5e709c1",
   "metadata": {},
   "outputs": [
    {
     "name": "stdout",
     "output_type": "stream",
     "text": [
      "<class 'pandas.core.frame.DataFrame'>\n",
      "RangeIndex: 555278 entries, 0 to 555277\n",
      "Data columns (total 81 columns):\n",
      " #   Column                    Non-Null Count   Dtype  \n",
      "---  ------                    --------------   -----  \n",
      " 0   originp                   555278 non-null  int64  \n",
      " 1   responp                   555278 non-null  int64  \n",
      " 2   flow_duration             555278 non-null  float64\n",
      " 3   fwd_pkts_tot              555278 non-null  int64  \n",
      " 4   bwd_pkts_tot              555278 non-null  int64  \n",
      " 5   fwd_data_pkts_tot         555278 non-null  int64  \n",
      " 6   bwd_data_pkts_tot         555278 non-null  int64  \n",
      " 7   fwd_pkts_per_sec          555278 non-null  float64\n",
      " 8   bwd_pkts_per_sec          555278 non-null  float64\n",
      " 9   flow_pkts_per_sec         555278 non-null  float64\n",
      " 10  down_up_ratio             555278 non-null  float64\n",
      " 11  fwd_header_size_tot       555278 non-null  int64  \n",
      " 12  fwd_header_size_min       555278 non-null  int64  \n",
      " 13  fwd_header_size_max       555278 non-null  int64  \n",
      " 14  bwd_header_size_tot       555278 non-null  int64  \n",
      " 15  bwd_header_size_min       555278 non-null  int64  \n",
      " 16  bwd_header_size_max       555278 non-null  int64  \n",
      " 17  flow_FIN_flag_count       555278 non-null  int64  \n",
      " 18  flow_SYN_flag_count       555278 non-null  int64  \n",
      " 19  flow_RST_flag_count       555278 non-null  int64  \n",
      " 20  fwd_PSH_flag_count        555278 non-null  int64  \n",
      " 21  bwd_PSH_flag_count        555278 non-null  int64  \n",
      " 22  flow_ACK_flag_count       555278 non-null  int64  \n",
      " 23  fwd_URG_flag_count        555278 non-null  int64  \n",
      " 24  bwd_URG_flag_count        555278 non-null  int64  \n",
      " 25  flow_CWR_flag_count       555278 non-null  int64  \n",
      " 26  flow_ECE_flag_count       555278 non-null  int64  \n",
      " 27  fwd_pkts_payload.min      555278 non-null  float64\n",
      " 28  fwd_pkts_payload.max      555278 non-null  float64\n",
      " 29  fwd_pkts_payload.tot      555278 non-null  float64\n",
      " 30  fwd_pkts_payload.avg      555278 non-null  float64\n",
      " 31  fwd_pkts_payload.std      555278 non-null  float64\n",
      " 32  bwd_pkts_payload.min      555278 non-null  float64\n",
      " 33  bwd_pkts_payload.max      555278 non-null  float64\n",
      " 34  bwd_pkts_payload.tot      555278 non-null  float64\n",
      " 35  bwd_pkts_payload.avg      555278 non-null  float64\n",
      " 36  bwd_pkts_payload.std      555278 non-null  float64\n",
      " 37  flow_pkts_payload.min     555278 non-null  float64\n",
      " 38  flow_pkts_payload.max     555278 non-null  float64\n",
      " 39  flow_pkts_payload.tot     555278 non-null  float64\n",
      " 40  flow_pkts_payload.avg     555278 non-null  float64\n",
      " 41  flow_pkts_payload.std     555278 non-null  float64\n",
      " 42  fwd_iat.min               555278 non-null  float64\n",
      " 43  fwd_iat.max               555278 non-null  float64\n",
      " 44  fwd_iat.tot               555278 non-null  float64\n",
      " 45  fwd_iat.avg               555278 non-null  float64\n",
      " 46  fwd_iat.std               555278 non-null  float64\n",
      " 47  bwd_iat.min               555278 non-null  float64\n",
      " 48  bwd_iat.max               555278 non-null  float64\n",
      " 49  bwd_iat.tot               555278 non-null  float64\n",
      " 50  bwd_iat.avg               555278 non-null  float64\n",
      " 51  bwd_iat.std               555278 non-null  float64\n",
      " 52  flow_iat.min              555278 non-null  float64\n",
      " 53  flow_iat.max              555278 non-null  float64\n",
      " 54  flow_iat.tot              555278 non-null  float64\n",
      " 55  flow_iat.avg              555278 non-null  float64\n",
      " 56  flow_iat.std              555278 non-null  float64\n",
      " 57  payload_bytes_per_second  555278 non-null  float64\n",
      " 58  fwd_subflow_pkts          555278 non-null  float64\n",
      " 59  bwd_subflow_pkts          555278 non-null  float64\n",
      " 60  fwd_subflow_bytes         555278 non-null  float64\n",
      " 61  bwd_subflow_bytes         555278 non-null  float64\n",
      " 62  fwd_bulk_bytes            555278 non-null  float64\n",
      " 63  bwd_bulk_bytes            555278 non-null  float64\n",
      " 64  fwd_bulk_packets          555278 non-null  float64\n",
      " 65  bwd_bulk_packets          555278 non-null  float64\n",
      " 66  fwd_bulk_rate             555278 non-null  float64\n",
      " 67  bwd_bulk_rate             555278 non-null  float64\n",
      " 68  active.min                555278 non-null  float64\n",
      " 69  active.max                555278 non-null  float64\n",
      " 70  active.tot                555278 non-null  float64\n",
      " 71  active.avg                555278 non-null  float64\n",
      " 72  active.std                555278 non-null  float64\n",
      " 73  idle.min                  555278 non-null  float64\n",
      " 74  idle.max                  555278 non-null  float64\n",
      " 75  idle.tot                  555278 non-null  float64\n",
      " 76  idle.avg                  555278 non-null  float64\n",
      " 77  idle.std                  555278 non-null  float64\n",
      " 78  fwd_init_window_size      555278 non-null  int64  \n",
      " 79  bwd_init_window_size      555278 non-null  int64  \n",
      " 80  fwd_last_window_size      555278 non-null  int64  \n",
      "dtypes: float64(56), int64(25)\n",
      "memory usage: 343.2 MB\n"
     ]
    }
   ],
   "source": [
    "x_data.info()"
   ]
  },
  {
   "cell_type": "code",
   "execution_count": 4,
   "id": "66a41169",
   "metadata": {},
   "outputs": [],
   "source": [
    "# augment = pd.DataFrame([0 if each == \"Benign\" or each == \"Background\" else 1 for each in data[\"traffic_category\"]])\n",
    "# augment.value_counts()"
   ]
  },
  {
   "cell_type": "code",
   "execution_count": 5,
   "id": "413b3a82",
   "metadata": {},
   "outputs": [],
   "source": [
    "# x_augmented = pd.concat([x_data, augment], axis=1)"
   ]
  },
  {
   "cell_type": "code",
   "execution_count": 6,
   "id": "ca01c709",
   "metadata": {},
   "outputs": [],
   "source": [
    "# x_augmented.info()"
   ]
  },
  {
   "cell_type": "code",
   "execution_count": 7,
   "id": "c364eee8",
   "metadata": {},
   "outputs": [],
   "source": [
    "#%% min-max scaler \n",
    "from sklearn.preprocessing import MinMaxScaler\n",
    "scaler = MinMaxScaler(feature_range=(0,1))\n",
    "scaled = scaler.fit_transform(x_data)"
   ]
  },
  {
   "cell_type": "code",
   "execution_count": 8,
   "id": "ba34d071",
   "metadata": {},
   "outputs": [],
   "source": [
    "from sklearn.model_selection import train_test_split\n",
    "x_train, x_test, y_train, y_test = train_test_split(scaled,y,test_size = 0.3,random_state=42)"
   ]
  },
  {
   "cell_type": "code",
   "execution_count": 9,
   "id": "8e05c1c4",
   "metadata": {},
   "outputs": [
    {
     "data": {
      "text/plain": [
       "(388694, 81)"
      ]
     },
     "execution_count": 9,
     "metadata": {},
     "output_type": "execute_result"
    }
   ],
   "source": [
    "x_train.shape"
   ]
  },
  {
   "cell_type": "code",
   "execution_count": 10,
   "id": "b7ebfc96",
   "metadata": {},
   "outputs": [
    {
     "data": {
      "text/plain": [
       "(166584, 81)"
      ]
     },
     "execution_count": 10,
     "metadata": {},
     "output_type": "execute_result"
    }
   ],
   "source": [
    "x_test.shape"
   ]
  },
  {
   "cell_type": "code",
   "execution_count": 11,
   "id": "33b755e1",
   "metadata": {},
   "outputs": [],
   "source": [
    "from keras.models import Model\n",
    "from keras.layers import Dense, Input\n",
    "from keras.layers import Dropout\n",
    "from sklearn.metrics import mean_squared_error"
   ]
  },
  {
   "cell_type": "code",
   "execution_count": 12,
   "id": "efb4b9b0",
   "metadata": {},
   "outputs": [
    {
     "name": "stdout",
     "output_type": "stream",
     "text": [
      "Epoch 1/150\n",
      "12147/12147 [==============================] - 14s 1ms/step - loss: 0.0673 - val_loss: 0.0637\n",
      "Epoch 2/150\n",
      "12147/12147 [==============================] - 14s 1ms/step - loss: 0.0636 - val_loss: 0.0636\n",
      "Epoch 3/150\n",
      "12147/12147 [==============================] - 12s 980us/step - loss: 0.0635 - val_loss: 0.0635\n",
      "Epoch 4/150\n",
      "12147/12147 [==============================] - 12s 984us/step - loss: 0.0634 - val_loss: 0.0634\n",
      "Epoch 5/150\n",
      "12147/12147 [==============================] - 12s 995us/step - loss: 0.0634 - val_loss: 0.0634\n",
      "Epoch 6/150\n",
      "12147/12147 [==============================] - 13s 1ms/step - loss: 0.0634 - val_loss: 0.0635\n",
      "Epoch 7/150\n",
      "12147/12147 [==============================] - 13s 1ms/step - loss: 0.0634 - val_loss: 0.0634\n",
      "Epoch 8/150\n",
      "12147/12147 [==============================] - 13s 1ms/step - loss: 0.0634 - val_loss: 0.0634\n",
      "Epoch 9/150\n",
      "12147/12147 [==============================] - 14s 1ms/step - loss: 0.0634 - val_loss: 0.0634\n",
      "Epoch 10/150\n",
      "12147/12147 [==============================] - 14s 1ms/step - loss: 0.0633 - val_loss: 0.0634\n",
      "Epoch 11/150\n",
      "12147/12147 [==============================] - 14s 1ms/step - loss: 0.0633 - val_loss: 0.0634\n",
      "Epoch 12/150\n",
      "12147/12147 [==============================] - 13s 1ms/step - loss: 0.0633 - val_loss: 0.0634\n",
      "Epoch 13/150\n",
      "12147/12147 [==============================] - 13s 1ms/step - loss: 0.0633 - val_loss: 0.0633\n",
      "Epoch 14/150\n",
      "12147/12147 [==============================] - 13s 1ms/step - loss: 0.0633 - val_loss: 0.0633\n",
      "Epoch 15/150\n",
      "12147/12147 [==============================] - 14s 1ms/step - loss: 0.0633 - val_loss: 0.0634\n",
      "Epoch 16/150\n",
      "12147/12147 [==============================] - 14s 1ms/step - loss: 0.0633 - val_loss: 0.0634\n",
      "Epoch 17/150\n",
      "12147/12147 [==============================] - 14s 1ms/step - loss: 0.0633 - val_loss: 0.0633\n",
      "Epoch 18/150\n",
      "12147/12147 [==============================] - 14s 1ms/step - loss: 0.0633 - val_loss: 0.0634\n",
      "Epoch 19/150\n",
      "12147/12147 [==============================] - 14s 1ms/step - loss: 0.0633 - val_loss: 0.0633\n",
      "Epoch 20/150\n",
      "12147/12147 [==============================] - 13s 1ms/step - loss: 0.0633 - val_loss: 0.0634\n",
      "Epoch 21/150\n",
      "12147/12147 [==============================] - 13s 1ms/step - loss: 0.0633 - val_loss: 0.0634\n",
      "Epoch 22/150\n",
      "12147/12147 [==============================] - 13s 1ms/step - loss: 0.0633 - val_loss: 0.0634\n",
      "Epoch 23/150\n",
      "12147/12147 [==============================] - 14s 1ms/step - loss: 0.0633 - val_loss: 0.0633\n",
      "Epoch 24/150\n",
      "12147/12147 [==============================] - 14s 1ms/step - loss: 0.0633 - val_loss: 0.0634\n",
      "Epoch 25/150\n",
      "12147/12147 [==============================] - 13s 1ms/step - loss: 0.0633 - val_loss: 0.0633\n",
      "Epoch 26/150\n",
      "12147/12147 [==============================] - 13s 1ms/step - loss: 0.0633 - val_loss: 0.0634\n",
      "Epoch 27/150\n",
      "12147/12147 [==============================] - 13s 1ms/step - loss: 0.0633 - val_loss: 0.0634\n",
      "Epoch 28/150\n",
      "12147/12147 [==============================] - 13s 1ms/step - loss: 0.0633 - val_loss: 0.0634\n",
      "Epoch 29/150\n",
      "12147/12147 [==============================] - 13s 1ms/step - loss: 0.0633 - val_loss: 0.0634\n",
      "Epoch 30/150\n",
      "12147/12147 [==============================] - 13s 1ms/step - loss: 0.0633 - val_loss: 0.0633\n",
      "Epoch 31/150\n",
      "12147/12147 [==============================] - 14s 1ms/step - loss: 0.0633 - val_loss: 0.0633\n",
      "Epoch 32/150\n",
      "12147/12147 [==============================] - 14s 1ms/step - loss: 0.0633 - val_loss: 0.0633\n",
      "Epoch 33/150\n",
      "12147/12147 [==============================] - 14s 1ms/step - loss: 0.0633 - val_loss: 0.0633\n",
      "Epoch 34/150\n",
      "12147/12147 [==============================] - 13s 1ms/step - loss: 0.0633 - val_loss: 0.0633\n",
      "Epoch 35/150\n",
      "12147/12147 [==============================] - 14s 1ms/step - loss: 0.0633 - val_loss: 0.0633\n",
      "Epoch 36/150\n",
      "12147/12147 [==============================] - 14s 1ms/step - loss: 0.0633 - val_loss: 0.0634\n",
      "Epoch 37/150\n",
      "12147/12147 [==============================] - 13s 1ms/step - loss: 0.0633 - val_loss: 0.0633\n",
      "Epoch 38/150\n",
      "12147/12147 [==============================] - 14s 1ms/step - loss: 0.0633 - val_loss: 0.0633\n",
      "Epoch 39/150\n",
      "12147/12147 [==============================] - 14s 1ms/step - loss: 0.0633 - val_loss: 0.0633\n",
      "Epoch 40/150\n",
      "12147/12147 [==============================] - 14s 1ms/step - loss: 0.0633 - val_loss: 0.0633\n",
      "Epoch 41/150\n",
      "12147/12147 [==============================] - 13s 1ms/step - loss: 0.0633 - val_loss: 0.0634\n",
      "Epoch 42/150\n",
      "12147/12147 [==============================] - 14s 1ms/step - loss: 0.0633 - val_loss: 0.0633\n",
      "Epoch 43/150\n",
      "12147/12147 [==============================] - 13s 1ms/step - loss: 0.0633 - val_loss: 0.0634\n",
      "Epoch 44/150\n",
      "12147/12147 [==============================] - 14s 1ms/step - loss: 0.0633 - val_loss: 0.0634\n",
      "Epoch 45/150\n",
      "12147/12147 [==============================] - 14s 1ms/step - loss: 0.0633 - val_loss: 0.0633\n",
      "Epoch 46/150\n",
      "12147/12147 [==============================] - 14s 1ms/step - loss: 0.0633 - val_loss: 0.0634\n",
      "Epoch 47/150\n",
      "12147/12147 [==============================] - 13s 1ms/step - loss: 0.0633 - val_loss: 0.0634\n",
      "Epoch 48/150\n",
      "12147/12147 [==============================] - 13s 1ms/step - loss: 0.0633 - val_loss: 0.0634\n",
      "Epoch 49/150\n",
      "12147/12147 [==============================] - 14s 1ms/step - loss: 0.0633 - val_loss: 0.0633\n",
      "Epoch 50/150\n",
      "12147/12147 [==============================] - 14s 1ms/step - loss: 0.0633 - val_loss: 0.0634\n",
      "Epoch 51/150\n",
      "12147/12147 [==============================] - 14s 1ms/step - loss: 0.0633 - val_loss: 0.0634\n",
      "Epoch 52/150\n",
      "12147/12147 [==============================] - 13s 1ms/step - loss: 0.0634 - val_loss: 0.0634\n",
      "Epoch 53/150\n",
      "12147/12147 [==============================] - 13s 1ms/step - loss: 0.0634 - val_loss: 0.0633\n",
      "Epoch 54/150\n",
      "12147/12147 [==============================] - 14s 1ms/step - loss: 0.0634 - val_loss: 0.0634\n",
      "Epoch 55/150\n",
      "12147/12147 [==============================] - 14s 1ms/step - loss: 0.0634 - val_loss: 0.0633\n",
      "Epoch 56/150\n",
      "12147/12147 [==============================] - 14s 1ms/step - loss: 0.0634 - val_loss: 0.0634\n",
      "Epoch 57/150\n",
      "12147/12147 [==============================] - 14s 1ms/step - loss: 0.0634 - val_loss: 0.0634\n",
      "Epoch 58/150\n",
      "12147/12147 [==============================] - 14s 1ms/step - loss: 0.0634 - val_loss: 0.0634\n",
      "Epoch 59/150\n",
      "12147/12147 [==============================] - 12s 1ms/step - loss: 0.0634 - val_loss: 0.0633\n",
      "Epoch 60/150\n",
      "12147/12147 [==============================] - 12s 970us/step - loss: 0.0634 - val_loss: 0.0633\n",
      "Epoch 61/150\n",
      "12147/12147 [==============================] - 12s 963us/step - loss: 0.0634 - val_loss: 0.0634\n",
      "Epoch 62/150\n",
      "12147/12147 [==============================] - 12s 972us/step - loss: 0.0634 - val_loss: 0.0634\n",
      "Epoch 63/150\n",
      "12147/12147 [==============================] - 12s 981us/step - loss: 0.0634 - val_loss: 0.0633\n",
      "Epoch 64/150\n",
      "12147/12147 [==============================] - 12s 977us/step - loss: 0.0634 - val_loss: 0.0633\n",
      "Epoch 65/150\n",
      "12147/12147 [==============================] - 12s 981us/step - loss: 0.0634 - val_loss: 0.0634\n",
      "Epoch 66/150\n",
      "12147/12147 [==============================] - 12s 984us/step - loss: 0.0634 - val_loss: 0.0634\n",
      "Epoch 67/150\n",
      "12147/12147 [==============================] - 12s 1ms/step - loss: 0.0634 - val_loss: 0.0634\n",
      "Epoch 68/150\n",
      "12147/12147 [==============================] - 11s 918us/step - loss: 0.0634 - val_loss: 0.0634\n",
      "Epoch 69/150\n",
      "12147/12147 [==============================] - 11s 939us/step - loss: 0.0634 - val_loss: 0.0634\n",
      "Epoch 70/150\n",
      "12147/12147 [==============================] - 12s 956us/step - loss: 0.0634 - val_loss: 0.0634\n",
      "Epoch 71/150\n",
      "12147/12147 [==============================] - 12s 972us/step - loss: 0.0634 - val_loss: 0.0634\n",
      "Epoch 72/150\n",
      "12147/12147 [==============================] - 13s 1ms/step - loss: 0.0634 - val_loss: 0.0635\n",
      "Epoch 73/150\n",
      "12147/12147 [==============================] - 12s 1ms/step - loss: 0.0634 - val_loss: 0.0634\n",
      "Epoch 74/150\n",
      "12147/12147 [==============================] - 14s 1ms/step - loss: 0.0634 - val_loss: 0.0634\n",
      "Epoch 75/150\n",
      "12147/12147 [==============================] - 12s 1ms/step - loss: 0.0634 - val_loss: 0.0634\n",
      "Epoch 76/150\n",
      "12147/12147 [==============================] - 12s 964us/step - loss: 0.0634 - val_loss: 0.0634\n",
      "Epoch 77/150\n"
     ]
    },
    {
     "name": "stdout",
     "output_type": "stream",
     "text": [
      "12147/12147 [==============================] - 12s 974us/step - loss: 0.0634 - val_loss: 0.0634\n",
      "Epoch 78/150\n",
      "12147/12147 [==============================] - 12s 1ms/step - loss: 0.0635 - val_loss: 0.0634\n",
      "Epoch 79/150\n",
      "12147/12147 [==============================] - 12s 1ms/step - loss: 0.0634 - val_loss: 0.0634\n",
      "Epoch 80/150\n",
      "12147/12147 [==============================] - 12s 1ms/step - loss: 0.0634 - val_loss: 0.0634\n",
      "Epoch 81/150\n",
      "12147/12147 [==============================] - 12s 962us/step - loss: 0.0634 - val_loss: 0.0634\n",
      "Epoch 82/150\n",
      "12147/12147 [==============================] - 12s 973us/step - loss: 0.0634 - val_loss: 0.0634\n",
      "Epoch 83/150\n",
      "12147/12147 [==============================] - 11s 931us/step - loss: 0.0634 - val_loss: 0.0635\n",
      "Epoch 84/150\n",
      "12147/12147 [==============================] - 12s 975us/step - loss: 0.0635 - val_loss: 0.0634\n",
      "Epoch 85/150\n",
      "12147/12147 [==============================] - 12s 965us/step - loss: 0.0635 - val_loss: 0.0635\n",
      "Epoch 86/150\n",
      "12147/12147 [==============================] - 12s 956us/step - loss: 0.0634 - val_loss: 0.0634\n",
      "Epoch 87/150\n",
      "12147/12147 [==============================] - 12s 973us/step - loss: 0.0635 - val_loss: 0.0634\n",
      "Epoch 88/150\n",
      "12147/12147 [==============================] - 12s 958us/step - loss: 0.0635 - val_loss: 0.0635\n",
      "Epoch 89/150\n",
      "12147/12147 [==============================] - 12s 964us/step - loss: 0.0635 - val_loss: 0.0634\n",
      "Epoch 90/150\n",
      "12147/12147 [==============================] - 12s 971us/step - loss: 0.0635 - val_loss: 0.0635\n",
      "Epoch 91/150\n",
      "12147/12147 [==============================] - 12s 972us/step - loss: 0.0635 - val_loss: 0.0634\n",
      "Epoch 92/150\n",
      "12147/12147 [==============================] - 12s 956us/step - loss: 0.0635 - val_loss: 0.0635\n",
      "Epoch 93/150\n",
      "12147/12147 [==============================] - 12s 960us/step - loss: 0.0635 - val_loss: 0.0634\n",
      "Epoch 94/150\n",
      "12147/12147 [==============================] - 12s 973us/step - loss: 0.0635 - val_loss: 0.0635\n",
      "Epoch 95/150\n",
      "12147/12147 [==============================] - 12s 959us/step - loss: 0.0635 - val_loss: 0.0635\n",
      "Epoch 96/150\n",
      "12147/12147 [==============================] - 12s 968us/step - loss: 0.0636 - val_loss: 0.0636\n",
      "Epoch 97/150\n",
      "12147/12147 [==============================] - 12s 974us/step - loss: 0.0636 - val_loss: 0.0636\n",
      "Epoch 98/150\n",
      "12147/12147 [==============================] - 12s 973us/step - loss: 0.0636 - val_loss: 0.0636\n",
      "Epoch 99/150\n",
      "12147/12147 [==============================] - 12s 954us/step - loss: 0.0636 - val_loss: 0.0636\n",
      "Epoch 100/150\n",
      "12147/12147 [==============================] - 12s 964us/step - loss: 0.0636 - val_loss: 0.0635\n",
      "Epoch 101/150\n",
      "12147/12147 [==============================] - 12s 977us/step - loss: 0.0636 - val_loss: 0.0636\n",
      "Epoch 102/150\n",
      "12147/12147 [==============================] - 12s 967us/step - loss: 0.0636 - val_loss: 0.0637\n",
      "Epoch 103/150\n",
      "12147/12147 [==============================] - 12s 961us/step - loss: 0.0636 - val_loss: 0.0636\n",
      "Epoch 104/150\n",
      "12147/12147 [==============================] - 12s 977us/step - loss: 0.0636 - val_loss: 0.0636\n",
      "Epoch 105/150\n",
      "12147/12147 [==============================] - 12s 983us/step - loss: 0.0636 - val_loss: 0.0635\n",
      "Epoch 106/150\n",
      "12147/12147 [==============================] - 12s 967us/step - loss: 0.0636 - val_loss: 0.0635\n",
      "Epoch 107/150\n",
      "12147/12147 [==============================] - 12s 959us/step - loss: 0.0636 - val_loss: 0.0635\n",
      "Epoch 108/150\n",
      "12147/12147 [==============================] - 12s 973us/step - loss: 0.0635 - val_loss: 0.0635\n",
      "Epoch 109/150\n",
      "12147/12147 [==============================] - 12s 978us/step - loss: 0.0636 - val_loss: 0.0635\n",
      "Epoch 110/150\n",
      "12147/12147 [==============================] - 12s 997us/step - loss: 0.0635 - val_loss: 0.0636\n",
      "Epoch 111/150\n",
      "12147/12147 [==============================] - 12s 972us/step - loss: 0.0636 - val_loss: 0.0635\n",
      "Epoch 112/150\n",
      "12147/12147 [==============================] - 12s 989us/step - loss: 0.0636 - val_loss: 0.0635\n",
      "Epoch 113/150\n",
      "12147/12147 [==============================] - 12s 980us/step - loss: 0.0636 - val_loss: 0.0635\n",
      "Epoch 114/150\n",
      "12147/12147 [==============================] - 12s 982us/step - loss: 0.0636 - val_loss: 0.0635\n",
      "Epoch 115/150\n",
      "12147/12147 [==============================] - 12s 984us/step - loss: 0.0636 - val_loss: 0.0636\n",
      "Epoch 116/150\n",
      "12147/12147 [==============================] - 12s 995us/step - loss: 0.0635 - val_loss: 0.0635\n",
      "Epoch 117/150\n",
      "12147/12147 [==============================] - 12s 968us/step - loss: 0.0636 - val_loss: 0.0636\n",
      "Epoch 118/150\n",
      "12147/12147 [==============================] - 11s 914us/step - loss: 0.0635 - val_loss: 0.0634\n",
      "Epoch 119/150\n",
      "12147/12147 [==============================] - 12s 950us/step - loss: 0.0636 - val_loss: 0.0634\n",
      "Epoch 120/150\n",
      "12147/12147 [==============================] - 12s 987us/step - loss: 0.0636 - val_loss: 0.0635\n",
      "Epoch 121/150\n",
      "12147/12147 [==============================] - 12s 990us/step - loss: 0.0636 - val_loss: 0.0634\n",
      "Epoch 122/150\n",
      "12147/12147 [==============================] - 12s 985us/step - loss: 0.0636 - val_loss: 0.0635\n",
      "Epoch 123/150\n",
      "12147/12147 [==============================] - 12s 992us/step - loss: 0.0636 - val_loss: 0.0635\n",
      "Epoch 124/150\n",
      "12147/12147 [==============================] - 12s 1ms/step - loss: 0.0636 - val_loss: 0.0635\n",
      "Epoch 125/150\n",
      "12147/12147 [==============================] - 12s 995us/step - loss: 0.0636 - val_loss: 0.0635\n",
      "Epoch 126/150\n",
      "12147/12147 [==============================] - 12s 976us/step - loss: 0.0636 - val_loss: 0.0634\n",
      "Epoch 127/150\n",
      "12147/12147 [==============================] - 12s 962us/step - loss: 0.0636 - val_loss: 0.0634\n",
      "Epoch 128/150\n",
      "12147/12147 [==============================] - 12s 961us/step - loss: 0.0635 - val_loss: 0.0634\n",
      "Epoch 129/150\n",
      "12147/12147 [==============================] - 12s 981us/step - loss: 0.0635 - val_loss: 0.0634\n",
      "Epoch 130/150\n",
      "12147/12147 [==============================] - 12s 984us/step - loss: 0.0635 - val_loss: 0.0635\n",
      "Epoch 131/150\n",
      "12147/12147 [==============================] - 12s 998us/step - loss: 0.0635 - val_loss: 0.0634\n",
      "Epoch 132/150\n",
      "12147/12147 [==============================] - 12s 1ms/step - loss: 0.0635 - val_loss: 0.0634\n",
      "Epoch 133/150\n",
      "12147/12147 [==============================] - 12s 991us/step - loss: 0.0635 - val_loss: 0.0635\n",
      "Epoch 134/150\n",
      "12147/12147 [==============================] - 12s 1ms/step - loss: 0.0635 - val_loss: 0.0635\n",
      "Epoch 135/150\n",
      "12147/12147 [==============================] - 12s 1ms/step - loss: 0.0635 - val_loss: 0.0635\n",
      "Epoch 136/150\n",
      "12147/12147 [==============================] - 12s 986us/step - loss: 0.0634 - val_loss: 0.0634\n",
      "Epoch 137/150\n",
      "12147/12147 [==============================] - 11s 896us/step - loss: 0.0634 - val_loss: 0.0635\n",
      "Epoch 138/150\n",
      "12147/12147 [==============================] - 12s 1ms/step - loss: 0.0635 - val_loss: 0.0635\n",
      "Epoch 139/150\n",
      "12147/12147 [==============================] - 12s 1ms/step - loss: 0.0635 - val_loss: 0.0635\n",
      "Epoch 140/150\n",
      "12147/12147 [==============================] - 12s 1ms/step - loss: 0.0635 - val_loss: 0.0635\n",
      "Epoch 141/150\n",
      "12147/12147 [==============================] - 13s 1ms/step - loss: 0.0635 - val_loss: 0.0634\n",
      "Epoch 142/150\n",
      "12147/12147 [==============================] - 12s 980us/step - loss: 0.0635 - val_loss: 0.0635\n",
      "Epoch 143/150\n",
      "12147/12147 [==============================] - 12s 1ms/step - loss: 0.0634 - val_loss: 0.0635\n",
      "Epoch 144/150\n",
      "12147/12147 [==============================] - 12s 975us/step - loss: 0.0634 - val_loss: 0.0635\n",
      "Epoch 145/150\n",
      "12147/12147 [==============================] - 12s 965us/step - loss: 0.0634 - val_loss: 0.0635\n",
      "Epoch 146/150\n",
      "12147/12147 [==============================] - 12s 956us/step - loss: 0.0634 - val_loss: 0.0634\n",
      "Epoch 147/150\n",
      "12147/12147 [==============================] - 12s 969us/step - loss: 0.0634 - val_loss: 0.0634\n",
      "Epoch 148/150\n",
      "12147/12147 [==============================] - 12s 956us/step - loss: 0.0634 - val_loss: 0.0635\n",
      "Epoch 149/150\n",
      "12147/12147 [==============================] - 12s 950us/step - loss: 0.0634 - val_loss: 0.0634\n",
      "Epoch 150/150\n",
      "12147/12147 [==============================] - 12s 955us/step - loss: 0.0634 - val_loss: 0.0635\n"
     ]
    }
   ],
   "source": [
    "input_line = Input(shape=(81,))\n",
    "encoded = Dense(32, activation='relu')(input_line)\n",
    "encoded = Dense(16, activation='relu')(encoded)\n",
    "decoded = Dense(32, activation='relu')(encoded)\n",
    "decoded = Dense(81, activation='sigmoid')(decoded)\n",
    "autoencoder = Model(input_line, decoded)\n",
    "autoencoder.compile(optimizer='rmsprop', loss='binary_crossentropy')\n",
    "\n",
    "hist = autoencoder.fit(x_train, x_train, epochs=150, batch_size=32, shuffle=True, validation_data=(x_test, x_test))"
   ]
  },
  {
   "cell_type": "code",
   "execution_count": 13,
   "id": "6e05b6a1",
   "metadata": {},
   "outputs": [
    {
     "name": "stdout",
     "output_type": "stream",
     "text": [
      "dict_keys(['loss', 'val_loss'])\n"
     ]
    },
    {
     "data": {
      "image/png": "[encoded data removed]",
      "text/plain": [
       "<Figure size 432x288 with 1 Axes>"
      ]
     },
     "metadata": {
      "needs_background": "light"
     },
     "output_type": "display_data"
    }
   ],
   "source": [
    "#%% evaluation\n",
    "print(hist.history.keys())\n",
    "\n",
    "plt.plot(hist.history[\"loss\"],label = \"Train loss\")\n",
    "plt.plot(hist.history[\"val_loss\"],label = \"Val loss\")\n",
    "\n",
    "plt.legend()\n",
    "plt.show()"
   ]
  },
  {
   "cell_type": "code",
   "execution_count": 14,
   "id": "8e0f5363",
   "metadata": {},
   "outputs": [
    {
     "name": "stdout",
     "output_type": "stream",
     "text": [
      "5206/5206 [==============================] - 3s 512us/step\n",
      "12147/12147 [==============================] - 6s 524us/step\n"
     ]
    }
   ],
   "source": [
    "x_test_encoded = autoencoder.predict(x_test)\n",
    "x_train_encoded = autoencoder.predict(x_train)"
   ]
  },
  {
   "cell_type": "code",
   "execution_count": 15,
   "id": "159a5248",
   "metadata": {},
   "outputs": [
    {
     "name": "stderr",
     "output_type": "stream",
     "text": [
      "B:\\anaconda\\envs\\datai\\lib\\site-packages\\sklearn\\linear_model\\_logistic.py:444: ConvergenceWarning: lbfgs failed to converge (status=1):\n",
      "STOP: TOTAL NO. of ITERATIONS REACHED LIMIT.\n",
      "\n",
      "Increase the number of iterations (max_iter) or scale the data as shown in:\n",
      "    https://scikit-learn.org/stable/modules/preprocessing.html\n",
      "Please also refer to the documentation for alternative solver options:\n",
      "    https://scikit-learn.org/stable/modules/linear_model.html#logistic-regression\n",
      "  n_iter_i = _check_optimize_result(\n"
     ]
    },
    {
     "name": "stdout",
     "output_type": "stream",
     "text": [
      "[[154781    472]\n",
      " [ 11298     33]]\n",
      "              precision    recall  f1-score   support\n",
      "\n",
      "           0       0.93      1.00      0.96    155253\n",
      "           1       0.07      0.00      0.01     11331\n",
      "\n",
      "    accuracy                           0.93    166584\n",
      "   macro avg       0.50      0.50      0.48    166584\n",
      "weighted avg       0.87      0.93      0.90    166584\n",
      "\n"
     ]
    },
    {
     "data": {
      "text/plain": [
       "<AxesSubplot:>"
      ]
     },
     "execution_count": 15,
     "metadata": {},
     "output_type": "execute_result"
    },
    {
     "data": {
      "image/png": "[encoded data removed]",
      "text/plain": [
       "<Figure size 432x288 with 2 Axes>"
      ]
     },
     "metadata": {
      "needs_background": "light"
     },
     "output_type": "display_data"
    }
   ],
   "source": [
    "from sklearn.linear_model import LogisticRegression\n",
    "lr = LogisticRegression()\n",
    "lr.fit(x_train, y_train)\n",
    "pred_lr = lr.predict(x_test)\n",
    "from sklearn.metrics import confusion_matrix, classification_report\n",
    "\n",
    "print(confusion_matrix(y_test, pred_lr))\n",
    "print(classification_report(y_test, pred_lr))\n",
    "sns.heatmap(confusion_matrix(y_test, pred_lr), annot=True)"
   ]
  },
  {
   "cell_type": "code",
   "execution_count": 16,
   "id": "e7d4e312",
   "metadata": {},
   "outputs": [
    {
     "name": "stderr",
     "output_type": "stream",
     "text": [
      "B:\\anaconda\\envs\\datai\\lib\\site-packages\\sklearn\\linear_model\\_logistic.py:444: ConvergenceWarning: lbfgs failed to converge (status=1):\n",
      "STOP: TOTAL NO. of ITERATIONS REACHED LIMIT.\n",
      "\n",
      "Increase the number of iterations (max_iter) or scale the data as shown in:\n",
      "    https://scikit-learn.org/stable/modules/preprocessing.html\n",
      "Please also refer to the documentation for alternative solver options:\n",
      "    https://scikit-learn.org/stable/modules/linear_model.html#logistic-regression\n",
      "  n_iter_i = _check_optimize_result(\n"
     ]
    },
    {
     "name": "stdout",
     "output_type": "stream",
     "text": [
      "[[154799    454]\n",
      " [ 11315     16]]\n",
      "              precision    recall  f1-score   support\n",
      "\n",
      "           0       0.93      1.00      0.96    155253\n",
      "           1       0.03      0.00      0.00     11331\n",
      "\n",
      "    accuracy                           0.93    166584\n",
      "   macro avg       0.48      0.50      0.48    166584\n",
      "weighted avg       0.87      0.93      0.90    166584\n",
      "\n"
     ]
    },
    {
     "data": {
      "text/plain": [
       "<AxesSubplot:>"
      ]
     },
     "execution_count": 16,
     "metadata": {},
     "output_type": "execute_result"
    },
    {
     "data": {
      "image/png": "[encoded data removed]",
      "text/plain": [
       "<Figure size 432x288 with 2 Axes>"
      ]
     },
     "metadata": {
      "needs_background": "light"
     },
     "output_type": "display_data"
    }
   ],
   "source": [
    "from sklearn.linear_model import LogisticRegression\n",
    "lr_AN = LogisticRegression()\n",
    "lr_AN.fit(x_train_encoded, y_train)\n",
    "pred_lr = lr_AN.predict(x_test_encoded)\n",
    "from sklearn.metrics import confusion_matrix, classification_report\n",
    "\n",
    "print(confusion_matrix(y_test, pred_lr))\n",
    "print(classification_report(y_test, pred_lr))\n",
    "sns.heatmap(confusion_matrix(y_test, pred_lr), annot=True)"
   ]
  },
  {
   "cell_type": "code",
   "execution_count": 17,
   "id": "493497d2",
   "metadata": {},
   "outputs": [
    {
     "data": {
      "text/plain": [
       "(388694, 81)"
      ]
     },
     "execution_count": 17,
     "metadata": {},
     "output_type": "execute_result"
    }
   ],
   "source": [
    "x_train.shape"
   ]
  },
  {
   "cell_type": "code",
   "execution_count": 18,
   "id": "1a464b5a",
   "metadata": {},
   "outputs": [
    {
     "name": "stdout",
     "output_type": "stream",
     "text": [
      "5206/5206 [==============================] - 3s 639us/step\n",
      "[[152533   2720]\n",
      " [  8453   2878]]\n",
      "              precision    recall  f1-score   support\n",
      "\n",
      "           0       0.95      0.98      0.96    155253\n",
      "           1       0.51      0.25      0.34     11331\n",
      "\n",
      "    accuracy                           0.93    166584\n",
      "   macro avg       0.73      0.62      0.65    166584\n",
      "weighted avg       0.92      0.93      0.92    166584\n",
      "\n"
     ]
    },
    {
     "data": {
      "text/plain": [
       "<AxesSubplot:>"
      ]
     },
     "execution_count": 18,
     "metadata": {},
     "output_type": "execute_result"
    },
    {
     "data": {
      "image/png": "[encoded data removed]",
      "text/plain": [
       "<Figure size 432x288 with 2 Axes>"
      ]
     },
     "metadata": {
      "needs_background": "light"
     },
     "output_type": "display_data"
    }
   ],
   "source": [
    "from sklearn.utils import shuffle\n",
    "from keras.models import Sequential\n",
    "from keras.layers import Dense, Dropout, BatchNormalization, Activation\n",
    "from keras.optimizers import Adam\n",
    "\n",
    "model = Sequential()\n",
    "model.add(Dense(64, input_shape=(81,), activation='tanh'))\n",
    "model.add(Dense(64, activation='tanh'))\n",
    "model.add(Dense(64, activation='tanh'))\n",
    "model.add(Dense(64, activation='tanh'))\n",
    "model.add(Dense(1, activation='sigmoid'))\n",
    "\n",
    "model.compile('adam', 'binary_crossentropy', metrics=['accuracy'])\n",
    "\n",
    "\n",
    "history = model.fit(x_train, y_train, verbose=0, epochs=50)\n",
    "\n",
    "\n",
    "\n",
    "pred_ann = model.predict(x_test)\n",
    "\n",
    "pred_ann = np.where(pred_ann > 0.5, 1, 0)\n",
    "\n",
    "from sklearn.metrics import confusion_matrix, classification_report\n",
    "\n",
    "print(confusion_matrix(y_test, pred_ann))\n",
    "print(classification_report(y_test, pred_ann))\n",
    "import seaborn as sns\n",
    "sns.heatmap(confusion_matrix(y_test, pred_ann), annot=True)"
   ]
  },
  {
   "cell_type": "code",
   "execution_count": 19,
   "id": "499f394a",
   "metadata": {},
   "outputs": [
    {
     "name": "stdout",
     "output_type": "stream",
     "text": [
      "5206/5206 [==============================] - 3s 601us/step\n",
      "[[151493   3760]\n",
      " [  7521   3810]]\n",
      "              precision    recall  f1-score   support\n",
      "\n",
      "           0       0.95      0.98      0.96    155253\n",
      "           1       0.50      0.34      0.40     11331\n",
      "\n",
      "    accuracy                           0.93    166584\n",
      "   macro avg       0.73      0.66      0.68    166584\n",
      "weighted avg       0.92      0.93      0.93    166584\n",
      "\n"
     ]
    },
    {
     "data": {
      "text/plain": [
       "<AxesSubplot:>"
      ]
     },
     "execution_count": 19,
     "metadata": {},
     "output_type": "execute_result"
    },
    {
     "data": {
      "image/png": "[encoded data removed]",
      "text/plain": [
       "<Figure size 432x288 with 2 Axes>"
      ]
     },
     "metadata": {
      "needs_background": "light"
     },
     "output_type": "display_data"
    }
   ],
   "source": [
    "\n",
    "model_AN = Sequential()\n",
    "model_AN.add(Dense(64, input_shape=(81,), activation='tanh'))\n",
    "model_AN.add(Dense(64, activation='tanh'))\n",
    "model_AN.add(Dense(64, activation='tanh'))\n",
    "model_AN.add(Dense(64, activation='tanh'))\n",
    "model_AN.add(Dense(1, activation='sigmoid'))\n",
    "\n",
    "model_AN.compile('adam', 'binary_crossentropy', metrics=['accuracy'])\n",
    "\n",
    "\n",
    "history = model_AN.fit(x_train_encoded, y_train, verbose=0, epochs=50)\n",
    "\n",
    "\n",
    "\n",
    "pred_ann = model_AN.predict(x_test_encoded)\n",
    "\n",
    "pred_ann = np.where(pred_ann > 0.5, 1, 0)\n",
    "\n",
    "from sklearn.metrics import confusion_matrix, classification_report\n",
    "\n",
    "print(confusion_matrix(y_test, pred_ann))\n",
    "print(classification_report(y_test, pred_ann))\n",
    "import seaborn as sns\n",
    "sns.heatmap(confusion_matrix(y_test, pred_ann), annot=True)"
   ]
  },
  {
   "cell_type": "code",
   "execution_count": null,
   "id": "70be3ca2",
   "metadata": {},
   "outputs": [],
   "source": []
  }
 ],
 "metadata": {
  "kernelspec": {
   "display_name": "Python 3 (ipykernel)",
   "language": "python",
   "name": "python3"
  },
  "language_info": {
   "codemirror_mode": {
    "name": "ipython",
    "version": 3
   },
   "file_extension": ".py",
   "mimetype": "text/x-python",
   "name": "python",
   "nbconvert_exporter": "python",
   "pygments_lexer": "ipython3",
   "version": "3.9.12"
  }
 },
 "nbformat": 4,
 "nbformat_minor": 5
}
