{
 "cells": [
  {
   "cell_type": "code",
   "execution_count": 1,
   "id": "e50dcd6d",
   "metadata": {},
   "outputs": [],
   "source": [
    "import numpy as np\n",
    "import pandas as pd\n",
    "import matplotlib.pyplot as plt\n"
   ]
  },
  {
   "cell_type": "code",
   "execution_count": 2,
   "id": "63e02b99",
   "metadata": {},
   "outputs": [],
   "source": [
    "def plot_loss_accuracy(history):\n",
    "    historydf = pd.DataFrame(history.history, index=history.epoch)\n",
    "    plt.figure(figsize=(8, 6))\n",
    "    historydf.plot(ylim=(0, max(1, historydf.values.max())))\n",
    "    loss = history.history['loss'][-1]\n",
    "    acc = history.history['accuracy'][-1]\n",
    "    plt.title('Loss: %.3f, Accuracy: %.3f' % (loss, acc))"
   ]
  },
  {
   "cell_type": "code",
   "execution_count": 3,
   "id": "1c93e0fa",
   "metadata": {},
   "outputs": [],
   "source": [
    "#ip adreslerini unique integer degerlerine cevirmek icin\n",
    "\n",
    "def convert_ip(ip):\n",
    "    ip = ip.strip().split('.')\n",
    "    convert = []\n",
    "    total = 0.0\n",
    "    for each in ip:\n",
    "        a = int(each)\n",
    "        convert.append(a)\n",
    "    for i in range(len(convert)):\n",
    "        total += convert[i]*pow(64, len(convert)-i)\n",
    "    return total"
   ]
  },
  {
   "cell_type": "code",
   "execution_count": 4,
   "id": "1fedfa3e",
   "metadata": {},
   "outputs": [],
   "source": [
    "data = pd.read_csv(\"IoT Network Intrusion Dataset.csv\")"
   ]
  },
  {
   "cell_type": "code",
   "execution_count": 5,
   "id": "b7d85def",
   "metadata": {},
   "outputs": [
    {
     "name": "stdout",
     "output_type": "stream",
     "text": [
      "<class 'pandas.core.frame.DataFrame'>\n",
      "RangeIndex: 625783 entries, 0 to 625782\n",
      "Data columns (total 86 columns):\n",
      " #   Column             Non-Null Count   Dtype  \n",
      "---  ------             --------------   -----  \n",
      " 0   Flow_ID            625783 non-null  object \n",
      " 1   Src_IP             625783 non-null  object \n",
      " 2   Src_Port           625783 non-null  int64  \n",
      " 3   Dst_IP             625783 non-null  object \n",
      " 4   Dst_Port           625783 non-null  int64  \n",
      " 5   Protocol           625783 non-null  int64  \n",
      " 6   Timestamp          625783 non-null  object \n",
      " 7   Flow_Duration      625783 non-null  int64  \n",
      " 8   Tot_Fwd_Pkts       625783 non-null  int64  \n",
      " 9   Tot_Bwd_Pkts       625783 non-null  int64  \n",
      " 10  TotLen_Fwd_Pkts    625783 non-null  float64\n",
      " 11  TotLen_Bwd_Pkts    625783 non-null  float64\n",
      " 12  Fwd_Pkt_Len_Max    625783 non-null  float64\n",
      " 13  Fwd_Pkt_Len_Min    625783 non-null  float64\n",
      " 14  Fwd_Pkt_Len_Mean   625783 non-null  float64\n",
      " 15  Fwd_Pkt_Len_Std    625783 non-null  float64\n",
      " 16  Bwd_Pkt_Len_Max    625783 non-null  float64\n",
      " 17  Bwd_Pkt_Len_Min    625783 non-null  float64\n",
      " 18  Bwd_Pkt_Len_Mean   625783 non-null  float64\n",
      " 19  Bwd_Pkt_Len_Std    625783 non-null  float64\n",
      " 20  Flow_Byts/s        625783 non-null  float64\n",
      " 21  Flow_Pkts/s        625783 non-null  float64\n",
      " 22  Flow_IAT_Mean      625783 non-null  float64\n",
      " 23  Flow_IAT_Std       625783 non-null  float64\n",
      " 24  Flow_IAT_Max       625783 non-null  float64\n",
      " 25  Flow_IAT_Min       625783 non-null  float64\n",
      " 26  Fwd_IAT_Tot        625783 non-null  float64\n",
      " 27  Fwd_IAT_Mean       625783 non-null  float64\n",
      " 28  Fwd_IAT_Std        625783 non-null  float64\n",
      " 29  Fwd_IAT_Max        625783 non-null  float64\n",
      " 30  Fwd_IAT_Min        625783 non-null  float64\n",
      " 31  Bwd_IAT_Tot        625783 non-null  float64\n",
      " 32  Bwd_IAT_Mean       625783 non-null  float64\n",
      " 33  Bwd_IAT_Std        625783 non-null  float64\n",
      " 34  Bwd_IAT_Max        625783 non-null  float64\n",
      " 35  Bwd_IAT_Min        625783 non-null  float64\n",
      " 36  Fwd_PSH_Flags      625783 non-null  int64  \n",
      " 37  Bwd_PSH_Flags      625783 non-null  int64  \n",
      " 38  Fwd_URG_Flags      625783 non-null  int64  \n",
      " 39  Bwd_URG_Flags      625783 non-null  int64  \n",
      " 40  Fwd_Header_Len     625783 non-null  int64  \n",
      " 41  Bwd_Header_Len     625783 non-null  int64  \n",
      " 42  Fwd_Pkts/s         625783 non-null  float64\n",
      " 43  Bwd_Pkts/s         625783 non-null  float64\n",
      " 44  Pkt_Len_Min        625783 non-null  float64\n",
      " 45  Pkt_Len_Max        625783 non-null  float64\n",
      " 46  Pkt_Len_Mean       625783 non-null  float64\n",
      " 47  Pkt_Len_Std        625783 non-null  float64\n",
      " 48  Pkt_Len_Var        625783 non-null  float64\n",
      " 49  FIN_Flag_Cnt       625783 non-null  int64  \n",
      " 50  SYN_Flag_Cnt       625783 non-null  int64  \n",
      " 51  RST_Flag_Cnt       625783 non-null  int64  \n",
      " 52  PSH_Flag_Cnt       625783 non-null  int64  \n",
      " 53  ACK_Flag_Cnt       625783 non-null  int64  \n",
      " 54  URG_Flag_Cnt       625783 non-null  int64  \n",
      " 55  CWE_Flag_Count     625783 non-null  int64  \n",
      " 56  ECE_Flag_Cnt       625783 non-null  int64  \n",
      " 57  Down/Up_Ratio      625783 non-null  float64\n",
      " 58  Pkt_Size_Avg       625783 non-null  float64\n",
      " 59  Fwd_Seg_Size_Avg   625783 non-null  float64\n",
      " 60  Bwd_Seg_Size_Avg   625783 non-null  float64\n",
      " 61  Fwd_Byts/b_Avg     625783 non-null  int64  \n",
      " 62  Fwd_Pkts/b_Avg     625783 non-null  int64  \n",
      " 63  Fwd_Blk_Rate_Avg   625783 non-null  int64  \n",
      " 64  Bwd_Byts/b_Avg     625783 non-null  int64  \n",
      " 65  Bwd_Pkts/b_Avg     625783 non-null  int64  \n",
      " 66  Bwd_Blk_Rate_Avg   625783 non-null  int64  \n",
      " 67  Subflow_Fwd_Pkts   625783 non-null  int64  \n",
      " 68  Subflow_Fwd_Byts   625783 non-null  int64  \n",
      " 69  Subflow_Bwd_Pkts   625783 non-null  int64  \n",
      " 70  Subflow_Bwd_Byts   625783 non-null  int64  \n",
      " 71  Init_Fwd_Win_Byts  625783 non-null  int64  \n",
      " 72  Init_Bwd_Win_Byts  625783 non-null  int64  \n",
      " 73  Fwd_Act_Data_Pkts  625783 non-null  int64  \n",
      " 74  Fwd_Seg_Size_Min   625783 non-null  int64  \n",
      " 75  Active_Mean        625783 non-null  float64\n",
      " 76  Active_Std         625783 non-null  float64\n",
      " 77  Active_Max         625783 non-null  float64\n",
      " 78  Active_Min         625783 non-null  float64\n",
      " 79  Idle_Mean          625783 non-null  float64\n",
      " 80  Idle_Std           625783 non-null  float64\n",
      " 81  Idle_Max           625783 non-null  float64\n",
      " 82  Idle_Min           625783 non-null  float64\n",
      " 83  Label              625783 non-null  object \n",
      " 84  Cat                625783 non-null  object \n",
      " 85  Sub_Cat            625783 non-null  object \n",
      "dtypes: float64(45), int64(34), object(7)\n",
      "memory usage: 410.6+ MB\n"
     ]
    }
   ],
   "source": [
    "data.info()"
   ]
  },
  {
   "cell_type": "code",
   "execution_count": 6,
   "id": "a50ddf3a",
   "metadata": {},
   "outputs": [
    {
     "data": {
      "text/plain": [
       "0    Anomaly\n",
       "1    Anomaly\n",
       "2    Anomaly\n",
       "3    Anomaly\n",
       "4    Anomaly\n",
       "Name: Label, dtype: object"
      ]
     },
     "execution_count": 6,
     "metadata": {},
     "output_type": "execute_result"
    }
   ],
   "source": [
    "data['Label'].head()"
   ]
  },
  {
   "cell_type": "code",
   "execution_count": 7,
   "id": "37a9730d",
   "metadata": {},
   "outputs": [
    {
     "data": {
      "text/plain": [
       "Anomaly    585710\n",
       "Normal      40073\n",
       "Name: Label, dtype: int64"
      ]
     },
     "execution_count": 7,
     "metadata": {},
     "output_type": "execute_result"
    }
   ],
   "source": [
    "data['Label'].value_counts()"
   ]
  },
  {
   "cell_type": "code",
   "execution_count": 8,
   "id": "e4b51e48",
   "metadata": {},
   "outputs": [
    {
     "data": {
      "text/plain": [
       "Mirai                415677\n",
       "Scan                  75265\n",
       "DoS                   59391\n",
       "Normal                40073\n",
       "MITM ARP Spoofing     35377\n",
       "Name: Cat, dtype: int64"
      ]
     },
     "execution_count": 8,
     "metadata": {},
     "output_type": "execute_result"
    }
   ],
   "source": [
    "data['Cat'].value_counts()"
   ]
  },
  {
   "cell_type": "code",
   "execution_count": 9,
   "id": "c8a7ae5c",
   "metadata": {},
   "outputs": [
    {
     "data": {
      "text/plain": [
       "Mirai-UDP Flooding       183554\n",
       "Mirai-Hostbruteforceg    121181\n",
       "DoS-Synflooding           59391\n",
       "Mirai-HTTP Flooding       55818\n",
       "Mirai-Ackflooding         55124\n",
       "Scan Port OS              53073\n",
       "Normal                    40073\n",
       "MITM ARP Spoofing         35377\n",
       "Scan Hostport             22192\n",
       "Name: Sub_Cat, dtype: int64"
      ]
     },
     "execution_count": 9,
     "metadata": {},
     "output_type": "execute_result"
    }
   ],
   "source": [
    "data['Sub_Cat'].value_counts()"
   ]
  },
  {
   "cell_type": "code",
   "execution_count": 10,
   "id": "a508a546",
   "metadata": {},
   "outputs": [
    {
     "data": {
      "text/plain": [
       "192.168.0.13       164532\n",
       "192.168.0.16       143150\n",
       "210.89.164.90      131170\n",
       "192.168.0.24        85813\n",
       "222.239.240.107     11240\n",
       "                    ...  \n",
       "0.40.121.31             1\n",
       "222.184.51.143          1\n",
       "222.100.196.201         1\n",
       "222.166.100.56          1\n",
       "222.200.112.240         1\n",
       "Name: Dst_IP, Length: 478, dtype: int64"
      ]
     },
     "execution_count": 10,
     "metadata": {},
     "output_type": "execute_result"
    }
   ],
   "source": [
    "data['Dst_IP'].value_counts()"
   ]
  },
  {
   "cell_type": "code",
   "execution_count": 11,
   "id": "1fabeeea",
   "metadata": {},
   "outputs": [
    {
     "data": {
      "text/plain": [
       "192.168.0.13-192.168.0.16-56361-10101-17    51852\n",
       "192.168.0.24-104.118.134.215-43238-443-6    46092\n",
       "192.168.0.13-192.168.0.16-10000-10101-17    35250\n",
       "192.168.0.13-192.168.0.16-9020-49784-6      31454\n",
       "192.168.0.13-192.168.0.16-9020-52717-6      26445\n",
       "                                            ...  \n",
       "192.168.0.13-111.205.227.189-554-7889-6         1\n",
       "192.168.0.13-222.87.123.150-554-5523-6          1\n",
       "192.168.0.13-111.63.92.222-554-5717-6           1\n",
       "192.168.0.13-111.124.93.30-554-3708-6           1\n",
       "192.168.0.13-222.131.171.244-554-4570-6         1\n",
       "Name: Flow_ID, Length: 64064, dtype: int64"
      ]
     },
     "execution_count": 11,
     "metadata": {},
     "output_type": "execute_result"
    }
   ],
   "source": [
    "data['Flow_ID'].value_counts()"
   ]
  },
  {
   "cell_type": "code",
   "execution_count": 12,
   "id": "a2973cba",
   "metadata": {},
   "outputs": [
    {
     "data": {
      "text/plain": [
       "192.168.0.13       222096\n",
       "192.168.0.16       125890\n",
       "192.168.0.24       122846\n",
       "104.118.134.215     46092\n",
       "104.74.213.186      23308\n",
       "                    ...  \n",
       "111.246.29.11           1\n",
       "222.63.54.185           1\n",
       "222.136.12.181          1\n",
       "111.76.36.36            1\n",
       "222.131.171.244         1\n",
       "Name: Src_IP, Length: 57985, dtype: int64"
      ]
     },
     "execution_count": 12,
     "metadata": {},
     "output_type": "execute_result"
    }
   ],
   "source": [
    "data['Src_IP'].value_counts()"
   ]
  },
  {
   "cell_type": "code",
   "execution_count": 13,
   "id": "43ba8239",
   "metadata": {},
   "outputs": [],
   "source": [
    "#ip sutunlarini tekrar ekleme\n",
    "\n",
    "Src_IP = np.array(data['Src_IP'])\n",
    "Dst_IP = np.array(data['Dst_IP'])\n"
   ]
  },
  {
   "cell_type": "code",
   "execution_count": 14,
   "id": "c2a62950",
   "metadata": {},
   "outputs": [],
   "source": [
    "src = []\n",
    "for each in Src_IP:\n",
    "    src.append(convert_ip(each))"
   ]
  },
  {
   "cell_type": "code",
   "execution_count": 15,
   "id": "f9c1a8e2",
   "metadata": {},
   "outputs": [],
   "source": [
    "dst = []\n",
    "for each in Dst_IP:\n",
    "    dst.append(convert_ip(each))"
   ]
  },
  {
   "cell_type": "code",
   "execution_count": 16,
   "id": "9c664bd4",
   "metadata": {},
   "outputs": [
    {
     "data": {
      "text/plain": [
       "3.265266e+09    222096\n",
       "3.265267e+09    125890\n",
       "3.265267e+09    122846\n",
       "1.776326e+09     46092\n",
       "1.765113e+09     23308\n",
       "                 ...  \n",
       "1.913138e+09         1\n",
       "1.913140e+09         1\n",
       "1.913140e+09         1\n",
       "1.913141e+09         1\n",
       "3.833341e+09         1\n",
       "Length: 57298, dtype: int64"
      ]
     },
     "execution_count": 16,
     "metadata": {},
     "output_type": "execute_result"
    }
   ],
   "source": [
    "Src_Ip = pd.DataFrame(src)\n",
    "Src_Ip.value_counts()\n"
   ]
  },
  {
   "cell_type": "code",
   "execution_count": 17,
   "id": "342c4ba6",
   "metadata": {},
   "outputs": [
    {
     "data": {
      "text/plain": [
       "3.265266e+09    164532\n",
       "3.265267e+09    143150\n",
       "3.547224e+09    131170\n",
       "3.265267e+09     85813\n",
       "3.788184e+09     11240\n",
       "                 ...  \n",
       "8.733870e+08         1\n",
       "9.024312e+08         1\n",
       "8.781273e+08         1\n",
       "3.838392e+08         1\n",
       "9.028268e+08         1\n",
       "Length: 474, dtype: int64"
      ]
     },
     "execution_count": 17,
     "metadata": {},
     "output_type": "execute_result"
    }
   ],
   "source": [
    "Dst_Ip = pd.DataFrame(dst)\n",
    "Dst_Ip.value_counts()"
   ]
  },
  {
   "cell_type": "code",
   "execution_count": 18,
   "id": "54bfbc2d",
   "metadata": {},
   "outputs": [],
   "source": [
    "y = data['Label']\n",
    "x_data = data.drop(['Label', 'Flow_ID', 'Src_IP', 'Dst_IP', 'Timestamp', 'Cat', 'Sub_Cat'], axis=1)"
   ]
  },
  {
   "cell_type": "code",
   "execution_count": 19,
   "id": "e684fc99",
   "metadata": {},
   "outputs": [
    {
     "name": "stdout",
     "output_type": "stream",
     "text": [
      "<class 'pandas.core.frame.DataFrame'>\n",
      "RangeIndex: 625783 entries, 0 to 625782\n",
      "Data columns (total 79 columns):\n",
      " #   Column             Non-Null Count   Dtype  \n",
      "---  ------             --------------   -----  \n",
      " 0   Src_Port           625783 non-null  int64  \n",
      " 1   Dst_Port           625783 non-null  int64  \n",
      " 2   Protocol           625783 non-null  int64  \n",
      " 3   Flow_Duration      625783 non-null  int64  \n",
      " 4   Tot_Fwd_Pkts       625783 non-null  int64  \n",
      " 5   Tot_Bwd_Pkts       625783 non-null  int64  \n",
      " 6   TotLen_Fwd_Pkts    625783 non-null  float64\n",
      " 7   TotLen_Bwd_Pkts    625783 non-null  float64\n",
      " 8   Fwd_Pkt_Len_Max    625783 non-null  float64\n",
      " 9   Fwd_Pkt_Len_Min    625783 non-null  float64\n",
      " 10  Fwd_Pkt_Len_Mean   625783 non-null  float64\n",
      " 11  Fwd_Pkt_Len_Std    625783 non-null  float64\n",
      " 12  Bwd_Pkt_Len_Max    625783 non-null  float64\n",
      " 13  Bwd_Pkt_Len_Min    625783 non-null  float64\n",
      " 14  Bwd_Pkt_Len_Mean   625783 non-null  float64\n",
      " 15  Bwd_Pkt_Len_Std    625783 non-null  float64\n",
      " 16  Flow_Byts/s        625783 non-null  float64\n",
      " 17  Flow_Pkts/s        625783 non-null  float64\n",
      " 18  Flow_IAT_Mean      625783 non-null  float64\n",
      " 19  Flow_IAT_Std       625783 non-null  float64\n",
      " 20  Flow_IAT_Max       625783 non-null  float64\n",
      " 21  Flow_IAT_Min       625783 non-null  float64\n",
      " 22  Fwd_IAT_Tot        625783 non-null  float64\n",
      " 23  Fwd_IAT_Mean       625783 non-null  float64\n",
      " 24  Fwd_IAT_Std        625783 non-null  float64\n",
      " 25  Fwd_IAT_Max        625783 non-null  float64\n",
      " 26  Fwd_IAT_Min        625783 non-null  float64\n",
      " 27  Bwd_IAT_Tot        625783 non-null  float64\n",
      " 28  Bwd_IAT_Mean       625783 non-null  float64\n",
      " 29  Bwd_IAT_Std        625783 non-null  float64\n",
      " 30  Bwd_IAT_Max        625783 non-null  float64\n",
      " 31  Bwd_IAT_Min        625783 non-null  float64\n",
      " 32  Fwd_PSH_Flags      625783 non-null  int64  \n",
      " 33  Bwd_PSH_Flags      625783 non-null  int64  \n",
      " 34  Fwd_URG_Flags      625783 non-null  int64  \n",
      " 35  Bwd_URG_Flags      625783 non-null  int64  \n",
      " 36  Fwd_Header_Len     625783 non-null  int64  \n",
      " 37  Bwd_Header_Len     625783 non-null  int64  \n",
      " 38  Fwd_Pkts/s         625783 non-null  float64\n",
      " 39  Bwd_Pkts/s         625783 non-null  float64\n",
      " 40  Pkt_Len_Min        625783 non-null  float64\n",
      " 41  Pkt_Len_Max        625783 non-null  float64\n",
      " 42  Pkt_Len_Mean       625783 non-null  float64\n",
      " 43  Pkt_Len_Std        625783 non-null  float64\n",
      " 44  Pkt_Len_Var        625783 non-null  float64\n",
      " 45  FIN_Flag_Cnt       625783 non-null  int64  \n",
      " 46  SYN_Flag_Cnt       625783 non-null  int64  \n",
      " 47  RST_Flag_Cnt       625783 non-null  int64  \n",
      " 48  PSH_Flag_Cnt       625783 non-null  int64  \n",
      " 49  ACK_Flag_Cnt       625783 non-null  int64  \n",
      " 50  URG_Flag_Cnt       625783 non-null  int64  \n",
      " 51  CWE_Flag_Count     625783 non-null  int64  \n",
      " 52  ECE_Flag_Cnt       625783 non-null  int64  \n",
      " 53  Down/Up_Ratio      625783 non-null  float64\n",
      " 54  Pkt_Size_Avg       625783 non-null  float64\n",
      " 55  Fwd_Seg_Size_Avg   625783 non-null  float64\n",
      " 56  Bwd_Seg_Size_Avg   625783 non-null  float64\n",
      " 57  Fwd_Byts/b_Avg     625783 non-null  int64  \n",
      " 58  Fwd_Pkts/b_Avg     625783 non-null  int64  \n",
      " 59  Fwd_Blk_Rate_Avg   625783 non-null  int64  \n",
      " 60  Bwd_Byts/b_Avg     625783 non-null  int64  \n",
      " 61  Bwd_Pkts/b_Avg     625783 non-null  int64  \n",
      " 62  Bwd_Blk_Rate_Avg   625783 non-null  int64  \n",
      " 63  Subflow_Fwd_Pkts   625783 non-null  int64  \n",
      " 64  Subflow_Fwd_Byts   625783 non-null  int64  \n",
      " 65  Subflow_Bwd_Pkts   625783 non-null  int64  \n",
      " 66  Subflow_Bwd_Byts   625783 non-null  int64  \n",
      " 67  Init_Fwd_Win_Byts  625783 non-null  int64  \n",
      " 68  Init_Bwd_Win_Byts  625783 non-null  int64  \n",
      " 69  Fwd_Act_Data_Pkts  625783 non-null  int64  \n",
      " 70  Fwd_Seg_Size_Min   625783 non-null  int64  \n",
      " 71  Active_Mean        625783 non-null  float64\n",
      " 72  Active_Std         625783 non-null  float64\n",
      " 73  Active_Max         625783 non-null  float64\n",
      " 74  Active_Min         625783 non-null  float64\n",
      " 75  Idle_Mean          625783 non-null  float64\n",
      " 76  Idle_Std           625783 non-null  float64\n",
      " 77  Idle_Max           625783 non-null  float64\n",
      " 78  Idle_Min           625783 non-null  float64\n",
      "dtypes: float64(45), int64(34)\n",
      "memory usage: 377.2 MB\n"
     ]
    }
   ],
   "source": [
    "x_data.info()"
   ]
  },
  {
   "cell_type": "code",
   "execution_count": 20,
   "id": "923eca65",
   "metadata": {},
   "outputs": [
    {
     "name": "stdout",
     "output_type": "stream",
     "text": [
      "<class 'pandas.core.frame.DataFrame'>\n",
      "RangeIndex: 625783 entries, 0 to 625782\n",
      "Data columns (total 81 columns):\n",
      " #   Column             Non-Null Count   Dtype  \n",
      "---  ------             --------------   -----  \n",
      " 0   Src_Port           625783 non-null  int64  \n",
      " 1   Dst_Port           625783 non-null  int64  \n",
      " 2   Protocol           625783 non-null  int64  \n",
      " 3   Flow_Duration      625783 non-null  int64  \n",
      " 4   Tot_Fwd_Pkts       625783 non-null  int64  \n",
      " 5   Tot_Bwd_Pkts       625783 non-null  int64  \n",
      " 6   TotLen_Fwd_Pkts    625783 non-null  float64\n",
      " 7   TotLen_Bwd_Pkts    625783 non-null  float64\n",
      " 8   Fwd_Pkt_Len_Max    625783 non-null  float64\n",
      " 9   Fwd_Pkt_Len_Min    625783 non-null  float64\n",
      " 10  Fwd_Pkt_Len_Mean   625783 non-null  float64\n",
      " 11  Fwd_Pkt_Len_Std    625783 non-null  float64\n",
      " 12  Bwd_Pkt_Len_Max    625783 non-null  float64\n",
      " 13  Bwd_Pkt_Len_Min    625783 non-null  float64\n",
      " 14  Bwd_Pkt_Len_Mean   625783 non-null  float64\n",
      " 15  Bwd_Pkt_Len_Std    625783 non-null  float64\n",
      " 16  Flow_Byts/s        625783 non-null  float64\n",
      " 17  Flow_Pkts/s        625783 non-null  float64\n",
      " 18  Flow_IAT_Mean      625783 non-null  float64\n",
      " 19  Flow_IAT_Std       625783 non-null  float64\n",
      " 20  Flow_IAT_Max       625783 non-null  float64\n",
      " 21  Flow_IAT_Min       625783 non-null  float64\n",
      " 22  Fwd_IAT_Tot        625783 non-null  float64\n",
      " 23  Fwd_IAT_Mean       625783 non-null  float64\n",
      " 24  Fwd_IAT_Std        625783 non-null  float64\n",
      " 25  Fwd_IAT_Max        625783 non-null  float64\n",
      " 26  Fwd_IAT_Min        625783 non-null  float64\n",
      " 27  Bwd_IAT_Tot        625783 non-null  float64\n",
      " 28  Bwd_IAT_Mean       625783 non-null  float64\n",
      " 29  Bwd_IAT_Std        625783 non-null  float64\n",
      " 30  Bwd_IAT_Max        625783 non-null  float64\n",
      " 31  Bwd_IAT_Min        625783 non-null  float64\n",
      " 32  Fwd_PSH_Flags      625783 non-null  int64  \n",
      " 33  Bwd_PSH_Flags      625783 non-null  int64  \n",
      " 34  Fwd_URG_Flags      625783 non-null  int64  \n",
      " 35  Bwd_URG_Flags      625783 non-null  int64  \n",
      " 36  Fwd_Header_Len     625783 non-null  int64  \n",
      " 37  Bwd_Header_Len     625783 non-null  int64  \n",
      " 38  Fwd_Pkts/s         625783 non-null  float64\n",
      " 39  Bwd_Pkts/s         625783 non-null  float64\n",
      " 40  Pkt_Len_Min        625783 non-null  float64\n",
      " 41  Pkt_Len_Max        625783 non-null  float64\n",
      " 42  Pkt_Len_Mean       625783 non-null  float64\n",
      " 43  Pkt_Len_Std        625783 non-null  float64\n",
      " 44  Pkt_Len_Var        625783 non-null  float64\n",
      " 45  FIN_Flag_Cnt       625783 non-null  int64  \n",
      " 46  SYN_Flag_Cnt       625783 non-null  int64  \n",
      " 47  RST_Flag_Cnt       625783 non-null  int64  \n",
      " 48  PSH_Flag_Cnt       625783 non-null  int64  \n",
      " 49  ACK_Flag_Cnt       625783 non-null  int64  \n",
      " 50  URG_Flag_Cnt       625783 non-null  int64  \n",
      " 51  CWE_Flag_Count     625783 non-null  int64  \n",
      " 52  ECE_Flag_Cnt       625783 non-null  int64  \n",
      " 53  Down/Up_Ratio      625783 non-null  float64\n",
      " 54  Pkt_Size_Avg       625783 non-null  float64\n",
      " 55  Fwd_Seg_Size_Avg   625783 non-null  float64\n",
      " 56  Bwd_Seg_Size_Avg   625783 non-null  float64\n",
      " 57  Fwd_Byts/b_Avg     625783 non-null  int64  \n",
      " 58  Fwd_Pkts/b_Avg     625783 non-null  int64  \n",
      " 59  Fwd_Blk_Rate_Avg   625783 non-null  int64  \n",
      " 60  Bwd_Byts/b_Avg     625783 non-null  int64  \n",
      " 61  Bwd_Pkts/b_Avg     625783 non-null  int64  \n",
      " 62  Bwd_Blk_Rate_Avg   625783 non-null  int64  \n",
      " 63  Subflow_Fwd_Pkts   625783 non-null  int64  \n",
      " 64  Subflow_Fwd_Byts   625783 non-null  int64  \n",
      " 65  Subflow_Bwd_Pkts   625783 non-null  int64  \n",
      " 66  Subflow_Bwd_Byts   625783 non-null  int64  \n",
      " 67  Init_Fwd_Win_Byts  625783 non-null  int64  \n",
      " 68  Init_Bwd_Win_Byts  625783 non-null  int64  \n",
      " 69  Fwd_Act_Data_Pkts  625783 non-null  int64  \n",
      " 70  Fwd_Seg_Size_Min   625783 non-null  int64  \n",
      " 71  Active_Mean        625783 non-null  float64\n",
      " 72  Active_Std         625783 non-null  float64\n",
      " 73  Active_Max         625783 non-null  float64\n",
      " 74  Active_Min         625783 non-null  float64\n",
      " 75  Idle_Mean          625783 non-null  float64\n",
      " 76  Idle_Std           625783 non-null  float64\n",
      " 77  Idle_Max           625783 non-null  float64\n",
      " 78  Idle_Min           625783 non-null  float64\n",
      " 79  0                  625783 non-null  float64\n",
      " 80  0                  625783 non-null  float64\n",
      "dtypes: float64(47), int64(34)\n",
      "memory usage: 386.7 MB\n"
     ]
    }
   ],
   "source": [
    "x_augmented = pd.concat([x_data, Src_Ip, Dst_Ip], axis=1)\n",
    "x_augmented.info()"
   ]
  },
  {
   "cell_type": "code",
   "execution_count": 21,
   "id": "83099450",
   "metadata": {},
   "outputs": [],
   "source": [
    "x_augmented.replace([np.inf, -np.inf], 0, inplace=True)"
   ]
  },
  {
   "cell_type": "code",
   "execution_count": 22,
   "id": "1374dd69",
   "metadata": {},
   "outputs": [
    {
     "name": "stderr",
     "output_type": "stream",
     "text": [
      "B:\\anaconda\\envs\\datai\\lib\\site-packages\\sklearn\\utils\\validation.py:1858: FutureWarning: Feature names only support names that are all strings. Got feature names with dtypes: ['int', 'str']. An error will be raised in 1.2.\n",
      "  warnings.warn(\n",
      "B:\\anaconda\\envs\\datai\\lib\\site-packages\\sklearn\\utils\\validation.py:1858: FutureWarning: Feature names only support names that are all strings. Got feature names with dtypes: ['int', 'str']. An error will be raised in 1.2.\n",
      "  warnings.warn(\n"
     ]
    }
   ],
   "source": [
    "from sklearn.preprocessing import MinMaxScaler\n",
    "scaler = MinMaxScaler(feature_range=(0, 1))\n",
    "scaled = scaler.fit_transform(x_augmented)"
   ]
  },
  {
   "cell_type": "code",
   "execution_count": 23,
   "id": "b334bdbb",
   "metadata": {},
   "outputs": [],
   "source": [
    "from sklearn.model_selection import train_test_split\n",
    "x_train, x_test, y_train, y_test = train_test_split(scaled,y,test_size = 0.3,random_state=42)"
   ]
  },
  {
   "cell_type": "code",
   "execution_count": 24,
   "id": "6ea267bc",
   "metadata": {},
   "outputs": [
    {
     "data": {
      "text/plain": [
       "(438048, 81)"
      ]
     },
     "execution_count": 24,
     "metadata": {},
     "output_type": "execute_result"
    }
   ],
   "source": [
    "x_train.shape"
   ]
  },
  {
   "cell_type": "code",
   "execution_count": 25,
   "id": "da95be46",
   "metadata": {},
   "outputs": [
    {
     "data": {
      "text/plain": [
       "(187735, 81)"
      ]
     },
     "execution_count": 25,
     "metadata": {},
     "output_type": "execute_result"
    }
   ],
   "source": [
    "x_test.shape"
   ]
  },
  {
   "cell_type": "code",
   "execution_count": 26,
   "id": "76994780",
   "metadata": {},
   "outputs": [
    {
     "name": "stdout",
     "output_type": "stream",
     "text": [
      "Epoch 1/200\n",
      "13689/13689 [==============================] - 14s 992us/step - loss: 0.0612 - val_loss: 0.0572\n",
      "Epoch 2/200\n",
      "13689/13689 [==============================] - 14s 1000us/step - loss: 0.0570 - val_loss: 0.0569\n",
      "Epoch 3/200\n",
      "13689/13689 [==============================] - 14s 1ms/step - loss: 0.0567 - val_loss: 0.0567\n",
      "Epoch 4/200\n",
      "13689/13689 [==============================] - 14s 1ms/step - loss: 0.0566 - val_loss: 0.0567\n",
      "Epoch 5/200\n",
      "13689/13689 [==============================] - 14s 1ms/step - loss: 0.0565 - val_loss: 0.0566\n",
      "Epoch 6/200\n",
      "13689/13689 [==============================] - 14s 1000us/step - loss: 0.0565 - val_loss: 0.0565\n",
      "Epoch 7/200\n",
      "13689/13689 [==============================] - 14s 1ms/step - loss: 0.0565 - val_loss: 0.0565\n",
      "Epoch 8/200\n",
      "13689/13689 [==============================] - 13s 958us/step - loss: 0.0565 - val_loss: 0.0566\n",
      "Epoch 9/200\n",
      "13689/13689 [==============================] - 13s 952us/step - loss: 0.0564 - val_loss: 0.0565\n",
      "Epoch 10/200\n",
      "13689/13689 [==============================] - 14s 1ms/step - loss: 0.0564 - val_loss: 0.0565\n",
      "Epoch 11/200\n",
      "13689/13689 [==============================] - 14s 1ms/step - loss: 0.0564 - val_loss: 0.0565\n",
      "Epoch 12/200\n",
      "13689/13689 [==============================] - 13s 983us/step - loss: 0.0564 - val_loss: 0.0565\n",
      "Epoch 13/200\n",
      "13689/13689 [==============================] - 13s 986us/step - loss: 0.0564 - val_loss: 0.0565\n",
      "Epoch 14/200\n",
      "13689/13689 [==============================] - 13s 943us/step - loss: 0.0564 - val_loss: 0.0565\n",
      "Epoch 15/200\n",
      "13689/13689 [==============================] - 13s 973us/step - loss: 0.0564 - val_loss: 0.0565\n",
      "Epoch 16/200\n",
      "13689/13689 [==============================] - 13s 977us/step - loss: 0.0564 - val_loss: 0.0564\n",
      "Epoch 17/200\n",
      "13689/13689 [==============================] - 13s 974us/step - loss: 0.0564 - val_loss: 0.0564\n",
      "Epoch 18/200\n",
      "13689/13689 [==============================] - 13s 982us/step - loss: 0.0564 - val_loss: 0.0565\n",
      "Epoch 19/200\n",
      "13689/13689 [==============================] - 13s 978us/step - loss: 0.0564 - val_loss: 0.0566\n",
      "Epoch 20/200\n",
      "13689/13689 [==============================] - 14s 1ms/step - loss: 0.0564 - val_loss: 0.0566\n",
      "Epoch 21/200\n",
      "13689/13689 [==============================] - 14s 1ms/step - loss: 0.0564 - val_loss: 0.0565\n",
      "Epoch 22/200\n",
      "13689/13689 [==============================] - 14s 1ms/step - loss: 0.0564 - val_loss: 0.0566\n",
      "Epoch 23/200\n",
      "13689/13689 [==============================] - 13s 944us/step - loss: 0.0564 - val_loss: 0.0565\n",
      "Epoch 24/200\n",
      "13689/13689 [==============================] - 14s 1ms/step - loss: 0.0564 - val_loss: 0.0564\n",
      "Epoch 25/200\n",
      "13689/13689 [==============================] - 13s 969us/step - loss: 0.0564 - val_loss: 0.0565\n",
      "Epoch 26/200\n",
      "13689/13689 [==============================] - 13s 983us/step - loss: 0.0564 - val_loss: 0.0564\n",
      "Epoch 27/200\n",
      "13689/13689 [==============================] - 13s 971us/step - loss: 0.0564 - val_loss: 0.0565\n",
      "Epoch 28/200\n",
      "13689/13689 [==============================] - 14s 1ms/step - loss: 0.0563 - val_loss: 0.0564\n",
      "Epoch 29/200\n",
      "13689/13689 [==============================] - 18s 1ms/step - loss: 0.0563 - val_loss: 0.0564\n",
      "Epoch 30/200\n",
      "13689/13689 [==============================] - 13s 985us/step - loss: 0.0563 - val_loss: 0.0564\n",
      "Epoch 31/200\n",
      "13689/13689 [==============================] - 14s 998us/step - loss: 0.0563 - val_loss: 0.0564\n",
      "Epoch 32/200\n",
      "13689/13689 [==============================] - 13s 983us/step - loss: 0.0563 - val_loss: 0.0564\n",
      "Epoch 33/200\n",
      "13689/13689 [==============================] - 13s 982us/step - loss: 0.0563 - val_loss: 0.0565\n",
      "Epoch 34/200\n",
      "13689/13689 [==============================] - 14s 997us/step - loss: 0.0563 - val_loss: 0.0564\n",
      "Epoch 35/200\n",
      "13689/13689 [==============================] - 14s 1ms/step - loss: 0.0563 - val_loss: 0.0564\n",
      "Epoch 36/200\n",
      "13689/13689 [==============================] - 13s 973us/step - loss: 0.0563 - val_loss: 0.0565\n",
      "Epoch 37/200\n",
      "13689/13689 [==============================] - 14s 1ms/step - loss: 0.0563 - val_loss: 0.0564\n",
      "Epoch 38/200\n",
      "13689/13689 [==============================] - 13s 980us/step - loss: 0.0563 - val_loss: 0.0564\n",
      "Epoch 39/200\n",
      "13689/13689 [==============================] - 13s 986us/step - loss: 0.0563 - val_loss: 0.0564\n",
      "Epoch 40/200\n",
      "13689/13689 [==============================] - 13s 944us/step - loss: 0.0564 - val_loss: 0.0565\n",
      "Epoch 41/200\n",
      "13689/13689 [==============================] - 14s 1ms/step - loss: 0.0564 - val_loss: 0.0565\n",
      "Epoch 42/200\n",
      "13689/13689 [==============================] - 13s 985us/step - loss: 0.0564 - val_loss: 0.0565\n",
      "Epoch 43/200\n",
      "13689/13689 [==============================] - 13s 974us/step - loss: 0.0564 - val_loss: 0.0565\n",
      "Epoch 44/200\n",
      "13689/13689 [==============================] - 13s 964us/step - loss: 0.0564 - val_loss: 0.0565\n",
      "Epoch 45/200\n",
      "13689/13689 [==============================] - 13s 970us/step - loss: 0.0564 - val_loss: 0.0565\n",
      "Epoch 46/200\n",
      "13689/13689 [==============================] - 13s 972us/step - loss: 0.0564 - val_loss: 0.0565\n",
      "Epoch 47/200\n",
      "13689/13689 [==============================] - 14s 1ms/step - loss: 0.0564 - val_loss: 0.0566\n",
      "Epoch 48/200\n",
      "13689/13689 [==============================] - 14s 1ms/step - loss: 0.0564 - val_loss: 0.0565\n",
      "Epoch 49/200\n",
      "13689/13689 [==============================] - 14s 1ms/step - loss: 0.0564 - val_loss: 0.0565\n",
      "Epoch 50/200\n",
      "13689/13689 [==============================] - 13s 979us/step - loss: 0.0564 - val_loss: 0.0566\n",
      "Epoch 51/200\n",
      "13689/13689 [==============================] - 13s 953us/step - loss: 0.0564 - val_loss: 0.0566\n",
      "Epoch 52/200\n",
      "13689/13689 [==============================] - 13s 961us/step - loss: 0.0564 - val_loss: 0.0566\n",
      "Epoch 53/200\n",
      "13689/13689 [==============================] - 14s 999us/step - loss: 0.0564 - val_loss: 0.0567\n",
      "Epoch 54/200\n",
      "13689/13689 [==============================] - 14s 1ms/step - loss: 0.0565 - val_loss: 0.0567\n",
      "Epoch 55/200\n",
      "13689/13689 [==============================] - 14s 1ms/step - loss: 0.0565 - val_loss: 0.0567\n",
      "Epoch 56/200\n",
      "13689/13689 [==============================] - 15s 1ms/step - loss: 0.0565 - val_loss: 0.0568\n",
      "Epoch 57/200\n",
      "13689/13689 [==============================] - 13s 940us/step - loss: 0.0565 - val_loss: 0.0569\n",
      "Epoch 58/200\n",
      "13689/13689 [==============================] - 13s 983us/step - loss: 0.0565 - val_loss: 0.0568\n",
      "Epoch 59/200\n",
      "13689/13689 [==============================] - 13s 956us/step - loss: 0.0565 - val_loss: 0.0566\n",
      "Epoch 60/200\n",
      "13689/13689 [==============================] - 14s 1ms/step - loss: 0.0565 - val_loss: 0.0566\n",
      "Epoch 61/200\n",
      "13689/13689 [==============================] - 14s 996us/step - loss: 0.0565 - val_loss: 0.0568\n",
      "Epoch 62/200\n",
      "13689/13689 [==============================] - 13s 975us/step - loss: 0.0565 - val_loss: 0.0568\n",
      "Epoch 63/200\n",
      "13689/13689 [==============================] - 13s 952us/step - loss: 0.0565 - val_loss: 0.0568\n",
      "Epoch 64/200\n",
      "13689/13689 [==============================] - 13s 983us/step - loss: 0.0565 - val_loss: 0.0566\n",
      "Epoch 65/200\n",
      "13689/13689 [==============================] - 13s 950us/step - loss: 0.0565 - val_loss: 0.0567\n",
      "Epoch 66/200\n",
      "13689/13689 [==============================] - 13s 980us/step - loss: 0.0565 - val_loss: 0.0566\n",
      "Epoch 67/200\n",
      "13689/13689 [==============================] - 13s 955us/step - loss: 0.0565 - val_loss: 0.0567\n",
      "Epoch 68/200\n",
      "13689/13689 [==============================] - 13s 961us/step - loss: 0.0565 - val_loss: 0.0567\n",
      "Epoch 69/200\n",
      "13689/13689 [==============================] - 13s 977us/step - loss: 0.0565 - val_loss: 0.0568\n",
      "Epoch 70/200\n",
      "13689/13689 [==============================] - 14s 1ms/step - loss: 0.0565 - val_loss: 0.0568\n",
      "Epoch 71/200\n",
      "13689/13689 [==============================] - 13s 977us/step - loss: 0.0565 - val_loss: 0.0568\n",
      "Epoch 72/200\n",
      "13689/13689 [==============================] - 14s 1ms/step - loss: 0.0565 - val_loss: 0.0568\n",
      "Epoch 73/200\n",
      "13689/13689 [==============================] - 13s 980us/step - loss: 0.0565 - val_loss: 0.0567\n",
      "Epoch 74/200\n",
      "13689/13689 [==============================] - 13s 941us/step - loss: 0.0565 - val_loss: 0.0567\n",
      "Epoch 75/200\n",
      "13689/13689 [==============================] - 13s 967us/step - loss: 0.0565 - val_loss: 0.0568\n",
      "Epoch 76/200\n"
     ]
    },
    {
     "name": "stdout",
     "output_type": "stream",
     "text": [
      "13689/13689 [==============================] - 14s 1ms/step - loss: 0.0565 - val_loss: 0.0568\n",
      "Epoch 77/200\n",
      "13689/13689 [==============================] - 14s 1ms/step - loss: 0.0565 - val_loss: 0.0568\n",
      "Epoch 78/200\n",
      "13689/13689 [==============================] - 14s 1ms/step - loss: 0.0565 - val_loss: 0.0568\n",
      "Epoch 79/200\n",
      "13689/13689 [==============================] - 14s 1ms/step - loss: 0.0565 - val_loss: 0.0569\n",
      "Epoch 80/200\n",
      "13689/13689 [==============================] - 13s 953us/step - loss: 0.0566 - val_loss: 0.0570\n",
      "Epoch 81/200\n",
      "13689/13689 [==============================] - 13s 967us/step - loss: 0.0566 - val_loss: 0.0571\n",
      "Epoch 82/200\n",
      "13689/13689 [==============================] - 14s 989us/step - loss: 0.0566 - val_loss: 0.0571\n",
      "Epoch 83/200\n",
      "13689/13689 [==============================] - 14s 1ms/step - loss: 0.0566 - val_loss: 0.0572\n",
      "Epoch 84/200\n",
      "13689/13689 [==============================] - 13s 980us/step - loss: 0.0566 - val_loss: 0.0574\n",
      "Epoch 85/200\n",
      "13689/13689 [==============================] - 14s 1ms/step - loss: 0.0567 - val_loss: 0.0573\n",
      "Epoch 86/200\n",
      "13689/13689 [==============================] - 13s 967us/step - loss: 0.0566 - val_loss: 0.0573\n",
      "Epoch 87/200\n",
      "13689/13689 [==============================] - 13s 974us/step - loss: 0.0566 - val_loss: 0.0574\n",
      "Epoch 88/200\n",
      "13689/13689 [==============================] - 13s 964us/step - loss: 0.0567 - val_loss: 0.0575\n",
      "Epoch 89/200\n",
      "13689/13689 [==============================] - 14s 996us/step - loss: 0.0567 - val_loss: 0.0575\n",
      "Epoch 90/200\n",
      "13689/13689 [==============================] - 14s 1ms/step - loss: 0.0567 - val_loss: 0.0574\n",
      "Epoch 91/200\n",
      "13689/13689 [==============================] - 14s 1ms/step - loss: 0.0566 - val_loss: 0.0573\n",
      "Epoch 92/200\n",
      "13689/13689 [==============================] - 15s 1ms/step - loss: 0.0566 - val_loss: 0.0575\n",
      "Epoch 93/200\n",
      "13689/13689 [==============================] - 14s 1ms/step - loss: 0.0567 - val_loss: 0.0575\n",
      "Epoch 94/200\n",
      "13689/13689 [==============================] - 14s 1ms/step - loss: 0.0567 - val_loss: 0.0574\n",
      "Epoch 95/200\n",
      "13689/13689 [==============================] - 15s 1ms/step - loss: 0.0567 - val_loss: 0.0574\n",
      "Epoch 96/200\n",
      "13689/13689 [==============================] - 12s 904us/step - loss: 0.0567 - val_loss: 0.0575\n",
      "Epoch 97/200\n",
      "13689/13689 [==============================] - 12s 875us/step - loss: 0.0566 - val_loss: 0.0574\n",
      "Epoch 98/200\n",
      "13689/13689 [==============================] - 12s 907us/step - loss: 0.0566 - val_loss: 0.0574\n",
      "Epoch 99/200\n",
      "13689/13689 [==============================] - 13s 929us/step - loss: 0.0567 - val_loss: 0.0573\n",
      "Epoch 100/200\n",
      "13689/13689 [==============================] - 12s 862us/step - loss: 0.0567 - val_loss: 0.0574\n",
      "Epoch 101/200\n",
      "13689/13689 [==============================] - 12s 880us/step - loss: 0.0567 - val_loss: 0.0574\n",
      "Epoch 102/200\n",
      "13689/13689 [==============================] - 12s 889us/step - loss: 0.0567 - val_loss: 0.0575\n",
      "Epoch 103/200\n",
      "13689/13689 [==============================] - 12s 874us/step - loss: 0.0568 - val_loss: 0.0575\n",
      "Epoch 104/200\n",
      "13689/13689 [==============================] - 12s 872us/step - loss: 0.0567 - val_loss: 0.0576\n",
      "Epoch 105/200\n",
      "13689/13689 [==============================] - 12s 879us/step - loss: 0.0567 - val_loss: 0.0574\n",
      "Epoch 106/200\n",
      "13689/13689 [==============================] - 12s 889us/step - loss: 0.0568 - val_loss: 0.0577\n",
      "Epoch 107/200\n",
      "13689/13689 [==============================] - 12s 878us/step - loss: 0.0567 - val_loss: 0.0575\n",
      "Epoch 108/200\n",
      "13689/13689 [==============================] - 12s 869us/step - loss: 0.0567 - val_loss: 0.0577\n",
      "Epoch 109/200\n",
      "13689/13689 [==============================] - 12s 882us/step - loss: 0.0567 - val_loss: 0.0577\n",
      "Epoch 110/200\n",
      "13689/13689 [==============================] - 12s 843us/step - loss: 0.0568 - val_loss: 0.0577\n",
      "Epoch 111/200\n",
      "13689/13689 [==============================] - 12s 880us/step - loss: 0.0568 - val_loss: 0.0579\n",
      "Epoch 112/200\n",
      "13689/13689 [==============================] - 12s 848us/step - loss: 0.0567 - val_loss: 0.0580\n",
      "Epoch 113/200\n",
      "13689/13689 [==============================] - 12s 874us/step - loss: 0.0567 - val_loss: 0.0577\n",
      "Epoch 114/200\n",
      "13689/13689 [==============================] - 11s 837us/step - loss: 0.0567 - val_loss: 0.0577\n",
      "Epoch 115/200\n",
      "13689/13689 [==============================] - 12s 857us/step - loss: 0.0567 - val_loss: 0.0579\n",
      "Epoch 116/200\n",
      "13689/13689 [==============================] - 12s 841us/step - loss: 0.0568 - val_loss: 0.0578\n",
      "Epoch 117/200\n",
      "13689/13689 [==============================] - 11s 827us/step - loss: 0.0568 - val_loss: 0.0580\n",
      "Epoch 118/200\n",
      "13689/13689 [==============================] - 12s 853us/step - loss: 0.0568 - val_loss: 0.0579\n",
      "Epoch 119/200\n",
      "13689/13689 [==============================] - 11s 819us/step - loss: 0.0568 - val_loss: 0.0580\n",
      "Epoch 120/200\n",
      "13689/13689 [==============================] - 12s 857us/step - loss: 0.0569 - val_loss: 0.0581\n",
      "Epoch 121/200\n",
      "13689/13689 [==============================] - 12s 848us/step - loss: 0.0568 - val_loss: 0.0578\n",
      "Epoch 122/200\n",
      "13689/13689 [==============================] - 12s 852us/step - loss: 0.0569 - val_loss: 0.0579\n",
      "Epoch 123/200\n",
      "13689/13689 [==============================] - 11s 808us/step - loss: 0.0568 - val_loss: 0.0578\n",
      "Epoch 124/200\n",
      "13689/13689 [==============================] - 12s 864us/step - loss: 0.0568 - val_loss: 0.0577\n",
      "Epoch 125/200\n",
      "13689/13689 [==============================] - 11s 833us/step - loss: 0.0567 - val_loss: 0.0577\n",
      "Epoch 126/200\n",
      "13689/13689 [==============================] - 11s 830us/step - loss: 0.0567 - val_loss: 0.0576\n",
      "Epoch 127/200\n",
      "13689/13689 [==============================] - 11s 821us/step - loss: 0.0567 - val_loss: 0.0576\n",
      "Epoch 128/200\n",
      "13689/13689 [==============================] - 12s 848us/step - loss: 0.0567 - val_loss: 0.0577\n",
      "Epoch 129/200\n",
      "13689/13689 [==============================] - 12s 869us/step - loss: 0.0567 - val_loss: 0.0575\n",
      "Epoch 130/200\n",
      "13689/13689 [==============================] - 12s 849us/step - loss: 0.0567 - val_loss: 0.0575\n",
      "Epoch 131/200\n",
      "13689/13689 [==============================] - 11s 830us/step - loss: 0.0567 - val_loss: 0.0573\n",
      "Epoch 132/200\n",
      "13689/13689 [==============================] - 12s 848us/step - loss: 0.0567 - val_loss: 0.0574\n",
      "Epoch 133/200\n",
      "13689/13689 [==============================] - 12s 852us/step - loss: 0.0567 - val_loss: 0.0575\n",
      "Epoch 134/200\n",
      "13689/13689 [==============================] - 12s 868us/step - loss: 0.0567 - val_loss: 0.0576\n",
      "Epoch 135/200\n",
      "13689/13689 [==============================] - 12s 857us/step - loss: 0.0567 - val_loss: 0.0571\n",
      "Epoch 136/200\n",
      "13689/13689 [==============================] - 11s 813us/step - loss: 0.0567 - val_loss: 0.0571\n",
      "Epoch 137/200\n",
      "13689/13689 [==============================] - 11s 825us/step - loss: 0.0567 - val_loss: 0.0574\n",
      "Epoch 138/200\n",
      "13689/13689 [==============================] - 11s 838us/step - loss: 0.0567 - val_loss: 0.0573\n",
      "Epoch 139/200\n",
      "13689/13689 [==============================] - 12s 866us/step - loss: 0.0567 - val_loss: 0.0573\n",
      "Epoch 140/200\n",
      "13689/13689 [==============================] - 12s 867us/step - loss: 0.0567 - val_loss: 0.0572\n",
      "Epoch 141/200\n",
      "13689/13689 [==============================] - 12s 868us/step - loss: 0.0567 - val_loss: 0.0570\n",
      "Epoch 142/200\n",
      "13689/13689 [==============================] - 12s 872us/step - loss: 0.0567 - val_loss: 0.0574\n",
      "Epoch 143/200\n",
      "13689/13689 [==============================] - 12s 851us/step - loss: 0.0567 - val_loss: 0.0574\n",
      "Epoch 144/200\n",
      "13689/13689 [==============================] - 12s 900us/step - loss: 0.0567 - val_loss: 0.0576\n",
      "Epoch 145/200\n",
      "13689/13689 [==============================] - 12s 857us/step - loss: 0.0567 - val_loss: 0.0576\n",
      "Epoch 146/200\n",
      "13689/13689 [==============================] - 12s 900us/step - loss: 0.0567 - val_loss: 0.0577\n",
      "Epoch 147/200\n",
      "13689/13689 [==============================] - 13s 948us/step - loss: 0.0567 - val_loss: 0.0577\n",
      "Epoch 148/200\n",
      "13689/13689 [==============================] - 12s 911us/step - loss: 0.0568 - val_loss: 0.0578\n",
      "Epoch 149/200\n",
      "13689/13689 [==============================] - 12s 862us/step - loss: 0.0567 - val_loss: 0.0578\n",
      "Epoch 150/200\n",
      "13689/13689 [==============================] - 12s 897us/step - loss: 0.0568 - val_loss: 0.0578\n",
      "Epoch 151/200\n"
     ]
    },
    {
     "name": "stdout",
     "output_type": "stream",
     "text": [
      "13689/13689 [==============================] - 13s 919us/step - loss: 0.0568 - val_loss: 0.0578\n",
      "Epoch 152/200\n",
      "13689/13689 [==============================] - 13s 971us/step - loss: 0.0569 - val_loss: 0.0616\n",
      "Epoch 153/200\n",
      "13689/13689 [==============================] - 13s 943us/step - loss: 0.0569 - val_loss: 0.0579\n",
      "Epoch 154/200\n",
      "13689/13689 [==============================] - 13s 968us/step - loss: 0.0569 - val_loss: 0.0578\n",
      "Epoch 155/200\n",
      "13689/13689 [==============================] - 13s 954us/step - loss: 0.0569 - val_loss: 0.0584\n",
      "Epoch 156/200\n",
      "13689/13689 [==============================] - 13s 976us/step - loss: 0.0570 - val_loss: 0.0583\n",
      "Epoch 157/200\n",
      "13689/13689 [==============================] - 13s 954us/step - loss: 0.0569 - val_loss: 0.0581\n",
      "Epoch 158/200\n",
      "13689/13689 [==============================] - 14s 1ms/step - loss: 0.0570 - val_loss: 0.0582\n",
      "Epoch 159/200\n",
      "13689/13689 [==============================] - 13s 974us/step - loss: 0.0570 - val_loss: 0.0580\n",
      "Epoch 160/200\n",
      "13689/13689 [==============================] - 14s 1ms/step - loss: 0.0570 - val_loss: 0.0577\n",
      "Epoch 161/200\n",
      "13689/13689 [==============================] - 13s 973us/step - loss: 0.0571 - val_loss: 0.0584\n",
      "Epoch 162/200\n",
      "13689/13689 [==============================] - 14s 1ms/step - loss: 0.0573 - val_loss: 0.0591\n",
      "Epoch 163/200\n",
      "13689/13689 [==============================] - 13s 976us/step - loss: 0.0575 - val_loss: 0.0592\n",
      "Epoch 164/200\n",
      "13689/13689 [==============================] - 13s 967us/step - loss: 0.0574 - val_loss: 0.0589\n",
      "Epoch 165/200\n",
      "13689/13689 [==============================] - 13s 971us/step - loss: 0.0575 - val_loss: 0.0588\n",
      "Epoch 166/200\n",
      "13689/13689 [==============================] - 13s 964us/step - loss: 0.0576 - val_loss: 0.0590\n",
      "Epoch 167/200\n",
      "13689/13689 [==============================] - 13s 929us/step - loss: 0.0577 - val_loss: 0.0597\n",
      "Epoch 168/200\n",
      "13689/13689 [==============================] - 14s 1ms/step - loss: 0.0579 - val_loss: 0.0597\n",
      "Epoch 169/200\n",
      "13689/13689 [==============================] - 14s 1ms/step - loss: 0.0579 - val_loss: 0.0599\n",
      "Epoch 170/200\n",
      "13689/13689 [==============================] - 14s 1ms/step - loss: 0.0576 - val_loss: 0.0595\n",
      "Epoch 171/200\n",
      "13689/13689 [==============================] - 14s 998us/step - loss: 0.0577 - val_loss: 0.0588\n",
      "Epoch 172/200\n",
      "13689/13689 [==============================] - 13s 977us/step - loss: 0.0577 - val_loss: 0.0609\n",
      "Epoch 173/200\n",
      "13689/13689 [==============================] - 14s 1ms/step - loss: 0.0581 - val_loss: 0.0611\n",
      "Epoch 174/200\n",
      "13689/13689 [==============================] - 14s 1ms/step - loss: 0.0580 - val_loss: 0.0605\n",
      "Epoch 175/200\n",
      "13689/13689 [==============================] - 14s 1ms/step - loss: 0.0580 - val_loss: 0.0633\n",
      "Epoch 176/200\n",
      "13689/13689 [==============================] - 14s 1ms/step - loss: 0.0581 - val_loss: 0.0623\n",
      "Epoch 177/200\n",
      "13689/13689 [==============================] - 14s 1ms/step - loss: 0.0577 - val_loss: 0.0610\n",
      "Epoch 178/200\n",
      "13689/13689 [==============================] - 14s 993us/step - loss: 0.0580 - val_loss: 0.0621\n",
      "Epoch 179/200\n",
      "13689/13689 [==============================] - 13s 961us/step - loss: 0.0578 - val_loss: 0.0632\n",
      "Epoch 180/200\n",
      "13689/13689 [==============================] - 13s 914us/step - loss: 0.0582 - val_loss: 0.0645\n",
      "Epoch 181/200\n",
      "13689/13689 [==============================] - 14s 1ms/step - loss: 0.0586 - val_loss: 0.0650\n",
      "Epoch 182/200\n",
      "13689/13689 [==============================] - 14s 1ms/step - loss: 0.0588 - val_loss: 0.0653\n",
      "Epoch 183/200\n",
      "13689/13689 [==============================] - 14s 1ms/step - loss: 0.0588 - val_loss: 0.0659\n",
      "Epoch 184/200\n",
      "13689/13689 [==============================] - 14s 992us/step - loss: 0.0589 - val_loss: 0.0664\n",
      "Epoch 185/200\n",
      "13689/13689 [==============================] - 13s 982us/step - loss: 0.0591 - val_loss: 0.0653\n",
      "Epoch 186/200\n",
      "13689/13689 [==============================] - 13s 952us/step - loss: 0.0586 - val_loss: 0.0638\n",
      "Epoch 187/200\n",
      "13689/13689 [==============================] - 14s 1ms/step - loss: 0.0579 - val_loss: 0.0636\n",
      "Epoch 188/200\n",
      "13689/13689 [==============================] - 13s 981us/step - loss: 0.0577 - val_loss: 0.0621\n",
      "Epoch 189/200\n",
      "13689/13689 [==============================] - 14s 992us/step - loss: 0.0577 - val_loss: 0.0625\n",
      "Epoch 190/200\n",
      "13689/13689 [==============================] - 14s 992us/step - loss: 0.0580 - val_loss: 0.0632\n",
      "Epoch 191/200\n",
      "13689/13689 [==============================] - 14s 1ms/step - loss: 0.0581 - val_loss: 0.0638\n",
      "Epoch 192/200\n",
      "13689/13689 [==============================] - 13s 977us/step - loss: 0.0583 - val_loss: 0.0652\n",
      "Epoch 193/200\n",
      "13689/13689 [==============================] - 13s 962us/step - loss: 0.0584 - val_loss: 0.0654\n",
      "Epoch 194/200\n",
      "13689/13689 [==============================] - 13s 974us/step - loss: 0.0586 - val_loss: 0.0674\n",
      "Epoch 195/200\n",
      "13689/13689 [==============================] - 13s 941us/step - loss: 0.0587 - val_loss: 0.0673\n",
      "Epoch 196/200\n",
      "13689/13689 [==============================] - 14s 998us/step - loss: 0.0588 - val_loss: 0.0664\n",
      "Epoch 197/200\n",
      "13689/13689 [==============================] - 13s 985us/step - loss: 0.0584 - val_loss: 0.0665\n",
      "Epoch 198/200\n",
      "13689/13689 [==============================] - 14s 1ms/step - loss: 0.0588 - val_loss: 0.0677\n",
      "Epoch 199/200\n",
      "13689/13689 [==============================] - 14s 988us/step - loss: 0.0588 - val_loss: 0.0674\n",
      "Epoch 200/200\n",
      "13689/13689 [==============================] - 14s 998us/step - loss: 0.0589 - val_loss: 0.0679\n"
     ]
    }
   ],
   "source": [
    "from keras.models import Model\n",
    "from keras.layers import Dense, Input\n",
    "from keras.layers import Dropout\n",
    "from sklearn.metrics import mean_squared_error\n",
    "\n",
    "input_line = Input(shape=(81,))\n",
    "encoded = Dense(32, activation='relu')(input_line)\n",
    "encoded = Dense(16, activation='relu')(encoded)\n",
    "decoded = Dense(32, activation='relu')(encoded)\n",
    "decoded = Dense(81, activation='sigmoid')(decoded)\n",
    "autoencoder = Model(input_line, decoded)\n",
    "autoencoder.compile(optimizer='rmsprop', loss='binary_crossentropy')\n",
    "\n",
    "hist = autoencoder.fit(x_train, x_train, epochs=200, batch_size=32, shuffle=True, validation_data=(x_test, x_test))"
   ]
  },
  {
   "cell_type": "code",
   "execution_count": 27,
   "id": "1c06eb78",
   "metadata": {},
   "outputs": [
    {
     "name": "stdout",
     "output_type": "stream",
     "text": [
      "dict_keys(['loss', 'val_loss'])\n"
     ]
    },
    {
     "data": {
      "image/png": "[encoded data removed]",
      "text/plain": [
       "<Figure size 432x288 with 1 Axes>"
      ]
     },
     "metadata": {
      "needs_background": "light"
     },
     "output_type": "display_data"
    }
   ],
   "source": [
    "#%% evaluation\n",
    "print(hist.history.keys())\n",
    "\n",
    "plt.plot(hist.history[\"loss\"],label = \"Train loss\")\n",
    "plt.plot(hist.history[\"val_loss\"],label = \"Val loss\")\n",
    "\n",
    "plt.legend()\n",
    "plt.show()"
   ]
  },
  {
   "cell_type": "code",
   "execution_count": 29,
   "id": "0f8cff78",
   "metadata": {},
   "outputs": [
    {
     "name": "stdout",
     "output_type": "stream",
     "text": [
      "5867/5867 [==============================] - 3s 488us/step\n"
     ]
    }
   ],
   "source": [
    "x_test_encoded = autoencoder.predict(x_test)\n"
   ]
  },
  {
   "cell_type": "code",
   "execution_count": 30,
   "id": "cd1d935a",
   "metadata": {},
   "outputs": [
    {
     "name": "stdout",
     "output_type": "stream",
     "text": [
      "13689/13689 [==============================] - 8s 563us/step\n"
     ]
    }
   ],
   "source": [
    "x_train_encoded = autoencoder.predict(x_train)"
   ]
  },
  {
   "cell_type": "code",
   "execution_count": 31,
   "id": "603bebf0",
   "metadata": {},
   "outputs": [
    {
     "data": {
      "text/plain": [
       "(187735, 81)"
      ]
     },
     "execution_count": 31,
     "metadata": {},
     "output_type": "execute_result"
    }
   ],
   "source": [
    "x_test.shape"
   ]
  },
  {
   "cell_type": "code",
   "execution_count": 32,
   "id": "96638228",
   "metadata": {},
   "outputs": [],
   "source": [
    "from sklearn.linear_model import LogisticRegression\n",
    "lr = LogisticRegression()"
   ]
  },
  {
   "cell_type": "code",
   "execution_count": 33,
   "id": "dfe36cb9",
   "metadata": {},
   "outputs": [
    {
     "name": "stderr",
     "output_type": "stream",
     "text": [
      "B:\\anaconda\\envs\\datai\\lib\\site-packages\\sklearn\\linear_model\\_logistic.py:444: ConvergenceWarning: lbfgs failed to converge (status=1):\n",
      "STOP: TOTAL NO. of ITERATIONS REACHED LIMIT.\n",
      "\n",
      "Increase the number of iterations (max_iter) or scale the data as shown in:\n",
      "    https://scikit-learn.org/stable/modules/preprocessing.html\n",
      "Please also refer to the documentation for alternative solver options:\n",
      "    https://scikit-learn.org/stable/modules/linear_model.html#logistic-regression\n",
      "  n_iter_i = _check_optimize_result(\n"
     ]
    },
    {
     "data": {
      "text/html": [
       "<style>#sk-container-id-1 {color: black;background-color: white;}#sk-container-id-1 pre{padding: 0;}#sk-container-id-1 div.sk-toggleable {background-color: white;}#sk-container-id-1 label.sk-toggleable__label {cursor: pointer;display: block;width: 100%;margin-bottom: 0;padding: 0.3em;box-sizing: border-box;text-align: center;}#sk-container-id-1 label.sk-toggleable__label-arrow:before {content: \"▸\";float: left;margin-right: 0.25em;color: #696969;}#sk-container-id-1 label.sk-toggleable__label-arrow:hover:before {color: black;}#sk-container-id-1 div.sk-estimator:hover label.sk-toggleable__label-arrow:before {color: black;}#sk-container-id-1 div.sk-toggleable__content {max-height: 0;max-width: 0;overflow: hidden;text-align: left;background-color: #f0f8ff;}#sk-container-id-1 div.sk-toggleable__content pre {margin: 0.2em;color: black;border-radius: 0.25em;background-color: #f0f8ff;}#sk-container-id-1 input.sk-toggleable__control:checked~div.sk-toggleable__content {max-height: 200px;max-width: 100%;overflow: auto;}#sk-container-id-1 input.sk-toggleable__control:checked~label.sk-toggleable__label-arrow:before {content: \"▾\";}#sk-container-id-1 div.sk-estimator input.sk-toggleable__control:checked~label.sk-toggleable__label {background-color: #d4ebff;}#sk-container-id-1 div.sk-label input.sk-toggleable__control:checked~label.sk-toggleable__label {background-color: #d4ebff;}#sk-container-id-1 input.sk-hidden--visually {border: 0;clip: rect(1px 1px 1px 1px);clip: rect(1px, 1px, 1px, 1px);height: 1px;margin: -1px;overflow: hidden;padding: 0;position: absolute;width: 1px;}#sk-container-id-1 div.sk-estimator {font-family: monospace;background-color: #f0f8ff;border: 1px dotted black;border-radius: 0.25em;box-sizing: border-box;margin-bottom: 0.5em;}#sk-container-id-1 div.sk-estimator:hover {background-color: #d4ebff;}#sk-container-id-1 div.sk-parallel-item::after {content: \"\";width: 100%;border-bottom: 1px solid gray;flex-grow: 1;}#sk-container-id-1 div.sk-label:hover label.sk-toggleable__label {background-color: #d4ebff;}#sk-container-id-1 div.sk-serial::before {content: \"\";position: absolute;border-left: 1px solid gray;box-sizing: border-box;top: 0;bottom: 0;left: 50%;z-index: 0;}#sk-container-id-1 div.sk-serial {display: flex;flex-direction: column;align-items: center;background-color: white;padding-right: 0.2em;padding-left: 0.2em;position: relative;}#sk-container-id-1 div.sk-item {position: relative;z-index: 1;}#sk-container-id-1 div.sk-parallel {display: flex;align-items: stretch;justify-content: center;background-color: white;position: relative;}#sk-container-id-1 div.sk-item::before, #sk-container-id-1 div.sk-parallel-item::before {content: \"\";position: absolute;border-left: 1px solid gray;box-sizing: border-box;top: 0;bottom: 0;left: 50%;z-index: -1;}#sk-container-id-1 div.sk-parallel-item {display: flex;flex-direction: column;z-index: 1;position: relative;background-color: white;}#sk-container-id-1 div.sk-parallel-item:first-child::after {align-self: flex-end;width: 50%;}#sk-container-id-1 div.sk-parallel-item:last-child::after {align-self: flex-start;width: 50%;}#sk-container-id-1 div.sk-parallel-item:only-child::after {width: 0;}#sk-container-id-1 div.sk-dashed-wrapped {border: 1px dashed gray;margin: 0 0.4em 0.5em 0.4em;box-sizing: border-box;padding-bottom: 0.4em;background-color: white;}#sk-container-id-1 div.sk-label label {font-family: monospace;font-weight: bold;display: inline-block;line-height: 1.2em;}#sk-container-id-1 div.sk-label-container {text-align: center;}#sk-container-id-1 div.sk-container {/* jupyter's `normalize.less` sets `[hidden] { display: none; }` but bootstrap.min.css set `[hidden] { display: none !important; }` so we also need the `!important` here to be able to override the default hidden behavior on the sphinx rendered scikit-learn.org. See: https://github.com/scikit-learn/scikit-learn/issues/21755 */display: inline-block !important;position: relative;}#sk-container-id-1 div.sk-text-repr-fallback {display: none;}</style><div id=\"sk-container-id-1\" class=\"sk-top-container\"><div class=\"sk-text-repr-fallback\"><pre>LogisticRegression()</pre><b>In a Jupyter environment, please rerun this cell to show the HTML representation or trust the notebook. <br />On GitHub, the HTML representation is unable to render, please try loading this page with nbviewer.org.</b></div><div class=\"sk-container\" hidden><div class=\"sk-item\"><div class=\"sk-estimator sk-toggleable\"><input class=\"sk-toggleable__control sk-hidden--visually\" id=\"sk-estimator-id-1\" type=\"checkbox\" checked><label for=\"sk-estimator-id-1\" class=\"sk-toggleable__label sk-toggleable__label-arrow\">LogisticRegression</label><div class=\"sk-toggleable__content\"><pre>LogisticRegression()</pre></div></div></div></div></div>"
      ],
      "text/plain": [
       "LogisticRegression()"
      ]
     },
     "execution_count": 33,
     "metadata": {},
     "output_type": "execute_result"
    }
   ],
   "source": [
    "lr.fit(x_train_encoded, y_train)"
   ]
  },
  {
   "cell_type": "code",
   "execution_count": 34,
   "id": "d3299d06",
   "metadata": {},
   "outputs": [],
   "source": [
    "pred_lr = lr.predict(x_test_encoded)"
   ]
  },
  {
   "cell_type": "code",
   "execution_count": 35,
   "id": "63a00594",
   "metadata": {},
   "outputs": [
    {
     "name": "stdout",
     "output_type": "stream",
     "text": [
      "['Anomaly' 'Anomaly' 'Anomaly' ... 'Anomaly' 'Anomaly' 'Anomaly']\n"
     ]
    }
   ],
   "source": [
    "print(pred_lr)\n"
   ]
  },
  {
   "cell_type": "code",
   "execution_count": 36,
   "id": "1d7853f2",
   "metadata": {},
   "outputs": [
    {
     "name": "stdout",
     "output_type": "stream",
     "text": [
      "[[173328   2412]\n",
      " [  7348   4647]]\n",
      "              precision    recall  f1-score   support\n",
      "\n",
      "     Anomaly       0.96      0.99      0.97    175740\n",
      "      Normal       0.66      0.39      0.49     11995\n",
      "\n",
      "    accuracy                           0.95    187735\n",
      "   macro avg       0.81      0.69      0.73    187735\n",
      "weighted avg       0.94      0.95      0.94    187735\n",
      "\n"
     ]
    }
   ],
   "source": [
    "from sklearn.metrics import confusion_matrix, classification_report\n",
    "\n",
    "print(confusion_matrix(y_test, pred_lr))\n",
    "print(classification_report(y_test, pred_lr))"
   ]
  },
  {
   "cell_type": "code",
   "execution_count": 37,
   "id": "2fba3306",
   "metadata": {},
   "outputs": [
    {
     "data": {
      "text/plain": [
       "<AxesSubplot:>"
      ]
     },
     "execution_count": 37,
     "metadata": {},
     "output_type": "execute_result"
    },
    {
     "data": {
      "image/png": "[encoded data removed]",
      "text/plain": [
       "<Figure size 432x288 with 2 Axes>"
      ]
     },
     "metadata": {
      "needs_background": "light"
     },
     "output_type": "display_data"
    }
   ],
   "source": [
    "import seaborn as sns\n",
    "sns.heatmap(confusion_matrix(y_test, pred_lr), annot=True)"
   ]
  },
  {
   "cell_type": "code",
   "execution_count": 38,
   "id": "e2ca4d6f",
   "metadata": {},
   "outputs": [
    {
     "name": "stdout",
     "output_type": "stream",
     "text": [
      "5867/5867 [==============================] - 3s 548us/step\n",
      "[[ 11690    305]\n",
      " [    99 175641]]\n",
      "              precision    recall  f1-score   support\n",
      "\n",
      "           0       0.99      0.97      0.98     11995\n",
      "           1       1.00      1.00      1.00    175740\n",
      "\n",
      "    accuracy                           1.00    187735\n",
      "   macro avg       0.99      0.99      0.99    187735\n",
      "weighted avg       1.00      1.00      1.00    187735\n",
      "\n"
     ]
    }
   ],
   "source": [
    "#method 2\n",
    "\n",
    "from sklearn.utils import shuffle\n",
    "from keras.models import Sequential\n",
    "from keras.layers import Dense, Dropout, BatchNormalization, Activation\n",
    "from keras.optimizers import Adam\n",
    "model = Sequential()\n",
    "model.add(Dense(64, input_shape=(81,), activation='tanh'))\n",
    "model.add(Dense(64, activation='tanh'))\n",
    "model.add(Dense(64, activation='tanh'))\n",
    "model.add(Dense(64, activation='tanh'))\n",
    "model.add(Dense(1, activation='sigmoid'))\n",
    "\n",
    "model.compile('adam', 'binary_crossentropy', metrics=['accuracy'])\n",
    "y_train = np.array([0 if each == \"Normal\" else 1 for each in y_train])\n",
    "y_test = np.array([0 if each == \"Normal\" else 1 for each in y_test])\n",
    "\n",
    "history = model.fit(x_train_encoded, y_train, verbose=0, epochs=50)\n",
    "\n",
    "\n",
    "\n",
    "pred_ann = model.predict(x_test_encoded)\n",
    "\n",
    "pred_ann = np.where(pred_ann > 0.5, 1, 0)\n",
    "\n",
    "from sklearn.metrics import confusion_matrix, classification_report\n",
    "\n",
    "print(confusion_matrix(y_test, pred_ann))\n",
    "print(classification_report(y_test, pred_ann))"
   ]
  },
  {
   "cell_type": "code",
   "execution_count": 39,
   "id": "38974376",
   "metadata": {},
   "outputs": [
    {
     "data": {
      "text/plain": [
       "<AxesSubplot:>"
      ]
     },
     "execution_count": 39,
     "metadata": {},
     "output_type": "execute_result"
    },
    {
     "data": {
      "image/png": "[encoded data removed]",
      "text/plain": [
       "<Figure size 432x288 with 2 Axes>"
      ]
     },
     "metadata": {
      "needs_background": "light"
     },
     "output_type": "display_data"
    }
   ],
   "source": [
    "import seaborn as sns\n",
    "sns.heatmap(confusion_matrix(y_test, pred_ann), annot=True)\n"
   ]
  },
  {
   "cell_type": "code",
   "execution_count": null,
   "id": "1f310c24",
   "metadata": {},
   "outputs": [],
   "source": []
  }
 ],
 "metadata": {
  "kernelspec": {
   "display_name": "Python 3 (ipykernel)",
   "language": "python",
   "name": "python3"
  },
  "language_info": {
   "codemirror_mode": {
    "name": "ipython",
    "version": 3
   },
   "file_extension": ".py",
   "mimetype": "text/x-python",
   "name": "python",
   "nbconvert_exporter": "python",
   "pygments_lexer": "ipython3",
   "version": "3.9.12"
  }
 },
 "nbformat": 4,
 "nbformat_minor": 5
}
